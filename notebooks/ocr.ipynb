{
 "cells": [
  {
   "cell_type": "markdown",
   "id": "e7a72002-6ef3-46b7-9ea4-5e854f01d8b4",
   "metadata": {},
   "source": [
    "### OCR"
   ]
  },
  {
   "cell_type": "code",
   "execution_count": 1,
   "id": "bbcabe09-e44c-49ce-895f-929272dc1a76",
   "metadata": {},
   "outputs": [],
   "source": [
    "# Importing the libraries\n",
    "import pandas as pd\n",
    "import numpy as np\n",
    "\n",
    "import os\n",
    "\n",
    "import pytesseract\n",
    "import PIL.Image\n",
    "if not hasattr(PIL.Image, 'Resampling'):\n",
    "    PIL.Image.Resampling = PIL.Image\n",
    "\n",
    "from PIL import Image\n",
    "\n",
    "import cv2\n",
    "import easyocr\n",
    "\n",
    "from tqdm import tqdm\n",
    "\n",
    "import matplotlib.pyplot as plt\n",
    "\n",
    "import re"
   ]
  },
  {
   "cell_type": "code",
   "execution_count": 2,
   "id": "fa87d6a3-f0c5-4f29-9ba8-77e237fb1486",
   "metadata": {},
   "outputs": [],
   "source": [
    "# image directory\n",
    "image_dir = '../images/aculei-images/'"
   ]
  },
  {
   "cell_type": "code",
   "execution_count": 3,
   "id": "6dab3082-a48a-49a9-a91f-706380a655fd",
   "metadata": {},
   "outputs": [],
   "source": [
    "# reading the dataframe\n",
    "df = pd.read_csv('../aculei.csv', index_col=0)"
   ]
  },
  {
   "cell_type": "markdown",
   "id": "de4ae823",
   "metadata": {},
   "source": [
    "We want to fill the missing data which were not available through metadata using ocr techniques.\n",
    "\n",
    "The missing data are:\n",
    "\n",
    "- some **cameras**\n",
    "- all **temperatures**\n",
    "\n",
    "So we have to filter the dataframe and try to fill in the missing data for the camera column and then we'll do the same thing for the temparature column (which is not present yet)\n"
   ]
  },
  {
   "cell_type": "code",
   "execution_count": 4,
   "id": "d3ee7dbf-73f4-4a3c-9e75-65bf0b2491ec",
   "metadata": {},
   "outputs": [
    {
     "data": {
      "text/html": [
       "<div>\n",
       "<style scoped>\n",
       "    .dataframe tbody tr th:only-of-type {\n",
       "        vertical-align: middle;\n",
       "    }\n",
       "\n",
       "    .dataframe tbody tr th {\n",
       "        vertical-align: top;\n",
       "    }\n",
       "\n",
       "    .dataframe thead th {\n",
       "        text-align: right;\n",
       "    }\n",
       "</style>\n",
       "<table border=\"1\" class=\"dataframe\">\n",
       "  <thead>\n",
       "    <tr style=\"text-align: right;\">\n",
       "      <th></th>\n",
       "      <th>image_name</th>\n",
       "      <th>camera</th>\n",
       "      <th>date_time</th>\n",
       "      <th>date</th>\n",
       "      <th>time</th>\n",
       "      <th>moon</th>\n",
       "    </tr>\n",
       "  </thead>\n",
       "  <tbody>\n",
       "    <tr>\n",
       "      <th>0</th>\n",
       "      <td>TF_ACULEI_8040_DSCF0129.jpg</td>\n",
       "      <td>CAM_1</td>\n",
       "      <td>2021-07-22 23:04:07</td>\n",
       "      <td>2021-07-22</td>\n",
       "      <td>23:04:07</td>\n",
       "      <td>Full Moon</td>\n",
       "    </tr>\n",
       "    <tr>\n",
       "      <th>1</th>\n",
       "      <td>TF_ACULEI_900_DSCF0756.jpg</td>\n",
       "      <td>CAM_1</td>\n",
       "      <td>2021-05-27 22:01:44</td>\n",
       "      <td>2021-05-27</td>\n",
       "      <td>22:01:44</td>\n",
       "      <td>Full Moon</td>\n",
       "    </tr>\n",
       "    <tr>\n",
       "      <th>2</th>\n",
       "      <td>TF_ACULEI_15294_DSCF0133.jpg</td>\n",
       "      <td>NaN</td>\n",
       "      <td>2023-03-30 20:35:58</td>\n",
       "      <td>2023-03-30</td>\n",
       "      <td>20:35:58</td>\n",
       "      <td>First Quarter</td>\n",
       "    </tr>\n",
       "    <tr>\n",
       "      <th>3</th>\n",
       "      <td>TF_ACULEI_11374_DSCF0064.jpg</td>\n",
       "      <td>CAM_6</td>\n",
       "      <td>2022-06-09 21:29:59</td>\n",
       "      <td>2022-06-09</td>\n",
       "      <td>21:29:59</td>\n",
       "      <td>Waxing Gibbous</td>\n",
       "    </tr>\n",
       "    <tr>\n",
       "      <th>4</th>\n",
       "      <td>TF_ACULEI_4106_DSCF4336.jpg</td>\n",
       "      <td>CAM_1</td>\n",
       "      <td>2021-06-16 23:41:09</td>\n",
       "      <td>2021-06-16</td>\n",
       "      <td>23:41:09</td>\n",
       "      <td>First Quarter</td>\n",
       "    </tr>\n",
       "  </tbody>\n",
       "</table>\n",
       "</div>"
      ],
      "text/plain": [
       "                     image_name camera            date_time        date  \\\n",
       "0   TF_ACULEI_8040_DSCF0129.jpg  CAM_1  2021-07-22 23:04:07  2021-07-22   \n",
       "1    TF_ACULEI_900_DSCF0756.jpg  CAM_1  2021-05-27 22:01:44  2021-05-27   \n",
       "2  TF_ACULEI_15294_DSCF0133.jpg    NaN  2023-03-30 20:35:58  2023-03-30   \n",
       "3  TF_ACULEI_11374_DSCF0064.jpg  CAM_6  2022-06-09 21:29:59  2022-06-09   \n",
       "4   TF_ACULEI_4106_DSCF4336.jpg  CAM_1  2021-06-16 23:41:09  2021-06-16   \n",
       "\n",
       "       time            moon  \n",
       "0  23:04:07       Full Moon  \n",
       "1  22:01:44       Full Moon  \n",
       "2  20:35:58   First Quarter  \n",
       "3  21:29:59  Waxing Gibbous  \n",
       "4  23:41:09   First Quarter  "
      ]
     },
     "execution_count": 4,
     "metadata": {},
     "output_type": "execute_result"
    }
   ],
   "source": [
    "df.head()"
   ]
  },
  {
   "cell_type": "code",
   "execution_count": 5,
   "id": "be55f02e",
   "metadata": {},
   "outputs": [
    {
     "data": {
      "text/plain": [
       "(16874, 6)"
      ]
     },
     "execution_count": 5,
     "metadata": {},
     "output_type": "execute_result"
    }
   ],
   "source": [
    "df.shape"
   ]
  },
  {
   "cell_type": "code",
   "execution_count": 6,
   "id": "2da0cb0f",
   "metadata": {},
   "outputs": [
    {
     "data": {
      "text/plain": [
       "image_name       0\n",
       "camera        4452\n",
       "date_time      103\n",
       "date           103\n",
       "time           103\n",
       "moon           103\n",
       "dtype: int64"
      ]
     },
     "execution_count": 6,
     "metadata": {},
     "output_type": "execute_result"
    }
   ],
   "source": [
    "df.isnull().sum()"
   ]
  },
  {
   "cell_type": "markdown",
   "id": "3c45aa4a",
   "metadata": {},
   "source": [
    "From the output above we can see we are missing\n",
    "\n",
    "- 4452 cameras\n",
    "- 103 dates\n",
    "- 16874 temperatures\n",
    "\n",
    "We'll split the jobs to keep it simple"
   ]
  },
  {
   "cell_type": "markdown",
   "id": "f2b307e6",
   "metadata": {},
   "source": [
    "### Cameras"
   ]
  },
  {
   "cell_type": "markdown",
   "id": "583c375d",
   "metadata": {},
   "source": [
    "We'll filter the dataset keeping only the empty camera rows (we expect 4452 rows)"
   ]
  },
  {
   "cell_type": "code",
   "execution_count": 7,
   "id": "01538664",
   "metadata": {},
   "outputs": [],
   "source": [
    "df_camera = df.copy()\n",
    "df_camera = df[df['camera'].isnull()]"
   ]
  },
  {
   "cell_type": "code",
   "execution_count": 8,
   "id": "3d6b5f24",
   "metadata": {},
   "outputs": [
    {
     "data": {
      "text/plain": [
       "(4452, 6)"
      ]
     },
     "execution_count": 8,
     "metadata": {},
     "output_type": "execute_result"
    }
   ],
   "source": [
    "df_camera.shape"
   ]
  },
  {
   "cell_type": "code",
   "execution_count": 9,
   "id": "3481730a",
   "metadata": {},
   "outputs": [
    {
     "data": {
      "text/html": [
       "<div>\n",
       "<style scoped>\n",
       "    .dataframe tbody tr th:only-of-type {\n",
       "        vertical-align: middle;\n",
       "    }\n",
       "\n",
       "    .dataframe tbody tr th {\n",
       "        vertical-align: top;\n",
       "    }\n",
       "\n",
       "    .dataframe thead th {\n",
       "        text-align: right;\n",
       "    }\n",
       "</style>\n",
       "<table border=\"1\" class=\"dataframe\">\n",
       "  <thead>\n",
       "    <tr style=\"text-align: right;\">\n",
       "      <th></th>\n",
       "      <th>image_name</th>\n",
       "      <th>camera</th>\n",
       "      <th>date_time</th>\n",
       "      <th>date</th>\n",
       "      <th>time</th>\n",
       "      <th>moon</th>\n",
       "    </tr>\n",
       "  </thead>\n",
       "  <tbody>\n",
       "    <tr>\n",
       "      <th>15061</th>\n",
       "      <td>TF_ACULEI_14470_DSCF0124.jpg</td>\n",
       "      <td>NaN</td>\n",
       "      <td>2023-02-02 18:13:30</td>\n",
       "      <td>2023-02-02</td>\n",
       "      <td>18:13:30</td>\n",
       "      <td>Waxing Gibbous</td>\n",
       "    </tr>\n",
       "    <tr>\n",
       "      <th>3819</th>\n",
       "      <td>TF_ACULEI_14541_IMAG0179.jpg</td>\n",
       "      <td>NaN</td>\n",
       "      <td>2023-02-04 22:26:36</td>\n",
       "      <td>2023-02-04</td>\n",
       "      <td>22:26:36</td>\n",
       "      <td>Full Moon</td>\n",
       "    </tr>\n",
       "    <tr>\n",
       "      <th>15942</th>\n",
       "      <td>TF_ACULEI_13967_DSCF0217.jpg</td>\n",
       "      <td>NaN</td>\n",
       "      <td>NaN</td>\n",
       "      <td>NaN</td>\n",
       "      <td>NaN</td>\n",
       "      <td>NaN</td>\n",
       "    </tr>\n",
       "    <tr>\n",
       "      <th>9285</th>\n",
       "      <td>TF_ACULEI_94_DSCF0204.jpg</td>\n",
       "      <td>NaN</td>\n",
       "      <td>2021-01-22 02:23:11</td>\n",
       "      <td>2021-01-22</td>\n",
       "      <td>02:23:11</td>\n",
       "      <td>First Quarter</td>\n",
       "    </tr>\n",
       "    <tr>\n",
       "      <th>726</th>\n",
       "      <td>TF_ACULEI_16291_DSCF0434.jpg</td>\n",
       "      <td>NaN</td>\n",
       "      <td>2023-07-06 05:35:02</td>\n",
       "      <td>2023-07-06</td>\n",
       "      <td>05:35:02</td>\n",
       "      <td>Waning Gibbous</td>\n",
       "    </tr>\n",
       "  </tbody>\n",
       "</table>\n",
       "</div>"
      ],
      "text/plain": [
       "                         image_name camera            date_time        date  \\\n",
       "15061  TF_ACULEI_14470_DSCF0124.jpg    NaN  2023-02-02 18:13:30  2023-02-02   \n",
       "3819   TF_ACULEI_14541_IMAG0179.jpg    NaN  2023-02-04 22:26:36  2023-02-04   \n",
       "15942  TF_ACULEI_13967_DSCF0217.jpg    NaN                  NaN         NaN   \n",
       "9285      TF_ACULEI_94_DSCF0204.jpg    NaN  2021-01-22 02:23:11  2021-01-22   \n",
       "726    TF_ACULEI_16291_DSCF0434.jpg    NaN  2023-07-06 05:35:02  2023-07-06   \n",
       "\n",
       "           time            moon  \n",
       "15061  18:13:30  Waxing Gibbous  \n",
       "3819   22:26:36       Full Moon  \n",
       "15942       NaN             NaN  \n",
       "9285   02:23:11   First Quarter  \n",
       "726    05:35:02  Waning Gibbous  "
      ]
     },
     "execution_count": 9,
     "metadata": {},
     "output_type": "execute_result"
    }
   ],
   "source": [
    "df_camera.sample(5)"
   ]
  },
  {
   "cell_type": "markdown",
   "id": "f3513c54",
   "metadata": {},
   "source": [
    "Using [pytesseract](https://pypi.org/project/pytesseract/) we can extract text from the images. We decided to crop the images to achieve better results.\n",
    "The output string from pytesseract is not tokenized or anything so we used RegExp to extract relevant information from the whole string\n"
   ]
  },
  {
   "cell_type": "code",
   "execution_count": 10,
   "id": "6e5bf1bb",
   "metadata": {},
   "outputs": [
    {
     "name": "stderr",
     "output_type": "stream",
     "text": [
      "  4%|▍         | 196/4452 [01:07<24:36,  2.88it/s]"
     ]
    }
   ],
   "source": [
    "for index, row in tqdm(df_camera.iterrows(), total=len(df_camera)):\n",
    "    image_path = os.path.join(image_dir, row['image_name'])\n",
    "    if os.path.isdir(image_path) and image_path.startswith(\".\"):\n",
    "        continue \n",
    "    \n",
    "    image = Image.open(image_path)\n",
    "    \n",
    "    # get image dimensions\n",
    "    width, height = image.size\n",
    "    \n",
    "    # define the coordinates for cropping\n",
    "    left = 0\n",
    "    upper = 0\n",
    "    right = width\n",
    "    lower = int(height * 17 / 18)  # keep only the bottom 1/3 of the image\n",
    "    \n",
    "    # crop the image\n",
    "    cropped_image = image.crop((left, lower, right, height))\n",
    "    \n",
    "    text = pytesseract.image_to_string(cropped_image, config='--psm 3')\n",
    "    \n",
    "    cam_pattern = r'\\bCA\\S*'\n",
    "    cam_matches = re.findall(cam_pattern, text)\n",
    "    \n",
    "    # saving results\n",
    "    row[\"camera\"] = cam_matches[0] if cam_matches else None\n"
   ]
  },
  {
   "cell_type": "code",
   "execution_count": null,
   "id": "edfd6a97",
   "metadata": {},
   "outputs": [],
   "source": [
    "df_camera.head(5)"
   ]
  },
  {
   "cell_type": "markdown",
   "id": "b3651ecb",
   "metadata": {},
   "source": [
    "It seems that the ocr recognized a lot of cameras but some of them are not well formatted (e.g CAME), so we have to understand what they stands for and substitute with the correct camera if possible. Otherwise we can simply drop them."
   ]
  },
  {
   "cell_type": "code",
   "execution_count": null,
   "id": "a7462221",
   "metadata": {},
   "outputs": [],
   "source": [
    "df_camera['camera'].value_counts()"
   ]
  },
  {
   "cell_type": "code",
   "execution_count": null,
   "id": "2aaba8c3",
   "metadata": {},
   "outputs": [],
   "source": [
    "df_camera.isnull().sum()"
   ]
  },
  {
   "cell_type": "markdown",
   "id": "dceaa4bf",
   "metadata": {},
   "source": [
    "We reached only 537 falsy cameras but we decided to drop the ones not well formatted"
   ]
  },
  {
   "cell_type": "code",
   "execution_count": null,
   "id": "04de9f4b",
   "metadata": {},
   "outputs": [],
   "source": [
    "%%capture\n",
    "\n",
    "# drop the camera from ocr not well formatted\n",
    "valid_cameras = [f'CAM{i}' for i in range(1, 8)]\n",
    "df_camera['camera'] = df_camera['camera'].apply(lambda x: x if x in valid_cameras else None)"
   ]
  },
  {
   "cell_type": "code",
   "execution_count": null,
   "id": "ff3ee36e",
   "metadata": {},
   "outputs": [],
   "source": [
    "df_camera.isnull().sum()"
   ]
  },
  {
   "cell_type": "code",
   "execution_count": null,
   "id": "697ae8d3",
   "metadata": {},
   "outputs": [],
   "source": [
    "df_camera['camera'].value_counts()"
   ]
  },
  {
   "cell_type": "markdown",
   "id": "50fe179a",
   "metadata": {},
   "source": [
    "We want to format the camera recognized with the ocr (from CAM7 to CAM_7)"
   ]
  },
  {
   "cell_type": "code",
   "execution_count": null,
   "id": "e3510385",
   "metadata": {},
   "outputs": [],
   "source": [
    "fail here"
   ]
  },
  {
   "cell_type": "code",
   "execution_count": null,
   "id": "05dc8a06",
   "metadata": {},
   "outputs": [],
   "source": []
  },
  {
   "cell_type": "markdown",
   "id": "41f46eca",
   "metadata": {},
   "source": [
    "So we lost only **2395** cameras using OCR for camera recognition\n",
    "\n",
    "Now let's check some results"
   ]
  },
  {
   "cell_type": "code",
   "execution_count": null,
   "metadata": {},
   "outputs": [],
   "source": [
    "import matplotlib.pyplot as plt\n",
    "import random\n",
    "\n",
    "image_folder_path = '../images/aculei-images/'\n",
    "\n",
    "# extract four random images from the dataset\n",
    "valid_rows = df_camera.dropna(subset=['camera'])\n",
    "six_random_rows = valid_rows.sample(n=6, random_state=random.seed())\n",
    "image_folder_path = '../images/aculei-images/'\n",
    "\n",
    "fig, ((ax1, ax2, ax3), (ax4, ax5, ax6)) = plt.subplots(2, 3, figsize=(16, 9))\n",
    "fig.suptitle('OCR results', fontsize=15)\n",
    "\n",
    "axes = [ax1, ax2, ax3, ax4, ax5, ax6]\n",
    "\n",
    "for i, ax in enumerate(axes):\n",
    "    image_path = os.path.join(image_folder_path, six_random_rows.iloc[i]['image_name'])\n",
    "    image = Image.open(image_path)\n",
    "    ax.imshow(image, aspect='auto')\n",
    "    ax.axis('off')\n",
    "\n",
    "    camera_info = six_random_rows.iloc[i]['camera']\n",
    "    ax.set_title(f\"Camera recognized by ocr: {camera_info}\", fontsize=10)\n",
    "\n",
    "plt.tight_layout()\n",
    "plt.show()"
   ]
  },
  {
   "cell_type": "markdown",
   "id": "2f63b51b",
   "metadata": {},
   "source": [
    "Now we can merge results in the original dataframe and save it! we didn't compute the hash so we use the image name as merge key for now"
   ]
  },
  {
   "cell_type": "code",
   "execution_count": null,
   "id": "24f0939c",
   "metadata": {},
   "outputs": [],
   "source": [
    "# checking if image name is a safe key\n",
    "print(len(df['image_name']))\n",
    "print(df.shape[0])"
   ]
  },
  {
   "cell_type": "code",
   "execution_count": null,
   "id": "a6884ec2",
   "metadata": {},
   "outputs": [],
   "source": [
    "merged_camera = df.merge(df_camera[['image_name', 'camera']], on='image_name', how='left', suffixes=('', '_camera'))\n",
    "\n",
    "# Fill missing 'camera' values in 'df' with values from 'df_camera'\n",
    "merged_camera['camera'] = merged_camera['camera'].combine_first(merged_camera['camera_camera'])\n",
    "\n",
    "# Drop the extra 'camera_camera' column\n",
    "merged_camera.drop('camera_camera', axis=1, inplace=True)  \n"
   ]
  },
  {
   "cell_type": "code",
   "execution_count": null,
   "id": "87637f18",
   "metadata": {},
   "outputs": [],
   "source": [
    "merged_camera.isnull().sum()"
   ]
  },
  {
   "cell_type": "code",
   "execution_count": null,
   "id": "1492035f",
   "metadata": {},
   "outputs": [],
   "source": [
    "# save it!\n",
    "merged_camera.to_csv('../aculei.csv')"
   ]
  }
 ],
 "metadata": {
  "kernelspec": {
   "display_name": "Python 3 (ipykernel)",
   "language": "python",
   "name": "python3"
  },
  "language_info": {
   "codemirror_mode": {
    "name": "ipython",
    "version": 3
   },
   "file_extension": ".py",
   "mimetype": "text/x-python",
   "name": "python",
   "nbconvert_exporter": "python",
   "pygments_lexer": "ipython3",
   "version": "3.10.12"
  }
 },
 "nbformat": 4,
 "nbformat_minor": 5
}
