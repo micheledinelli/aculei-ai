{
 "cells": [
  {
   "cell_type": "markdown",
   "id": "e7a72002-6ef3-46b7-9ea4-5e854f01d8b4",
   "metadata": {},
   "source": [
    "### OCR"
   ]
  },
  {
   "cell_type": "code",
   "execution_count": 14,
   "id": "bbcabe09-e44c-49ce-895f-929272dc1a76",
   "metadata": {},
   "outputs": [],
   "source": [
    "# Importing the libraries\n",
    "import pandas as pd\n",
    "import numpy as np\n",
    "from datetime import datetime\n",
    "\n",
    "import os\n",
    "\n",
    "import pytesseract\n",
    "import PIL.Image\n",
    "if not hasattr(PIL.Image, 'Resampling'):\n",
    "    PIL.Image.Resampling = PIL.Image\n",
    "\n",
    "from PIL import Image\n",
    "\n",
    "import cv2\n",
    "import easyocr\n",
    "\n",
    "from tqdm import tqdm\n",
    "\n",
    "import matplotlib.pyplot as plt\n",
    "\n",
    "import re"
   ]
  },
  {
   "cell_type": "code",
   "execution_count": 3,
   "id": "fa87d6a3-f0c5-4f29-9ba8-77e237fb1486",
   "metadata": {},
   "outputs": [],
   "source": [
    "# image directory\n",
    "image_dir = '../images/aculei-images/'"
   ]
  },
  {
   "cell_type": "code",
   "execution_count": 4,
   "id": "6dab3082-a48a-49a9-a91f-706380a655fd",
   "metadata": {},
   "outputs": [],
   "source": [
    "# reading the dataframe\n",
    "df = pd.read_csv('../aculei.csv', index_col=0)"
   ]
  },
  {
   "cell_type": "markdown",
   "id": "de4ae823",
   "metadata": {},
   "source": [
    "We want to fill the missing data which were not available through metadata using ocr techniques.\n",
    "\n",
    "The missing data are:\n",
    "\n",
    "- some **cameras**\n",
    "- all **temperatures**\n",
    "\n",
    "So we have to filter the dataframe and try to fill in the missing data for the camera column and then we'll do the same thing for the temparature column (which is not present yet)\n"
   ]
  },
  {
   "cell_type": "code",
   "execution_count": 5,
   "id": "d3ee7dbf-73f4-4a3c-9e75-65bf0b2491ec",
   "metadata": {},
   "outputs": [
    {
     "data": {
      "text/html": [
       "<div>\n",
       "<style scoped>\n",
       "    .dataframe tbody tr th:only-of-type {\n",
       "        vertical-align: middle;\n",
       "    }\n",
       "\n",
       "    .dataframe tbody tr th {\n",
       "        vertical-align: top;\n",
       "    }\n",
       "\n",
       "    .dataframe thead th {\n",
       "        text-align: right;\n",
       "    }\n",
       "</style>\n",
       "<table border=\"1\" class=\"dataframe\">\n",
       "  <thead>\n",
       "    <tr style=\"text-align: right;\">\n",
       "      <th></th>\n",
       "      <th>image_name</th>\n",
       "      <th>camera</th>\n",
       "      <th>date_time</th>\n",
       "      <th>date</th>\n",
       "      <th>time</th>\n",
       "      <th>moon</th>\n",
       "    </tr>\n",
       "  </thead>\n",
       "  <tbody>\n",
       "    <tr>\n",
       "      <th>0</th>\n",
       "      <td>TF_ACULEI_8040_DSCF0129.jpg</td>\n",
       "      <td>CAM_1</td>\n",
       "      <td>2021-07-22 23:04:07</td>\n",
       "      <td>2021-07-22</td>\n",
       "      <td>23:04:07</td>\n",
       "      <td>Full Moon</td>\n",
       "    </tr>\n",
       "    <tr>\n",
       "      <th>1</th>\n",
       "      <td>TF_ACULEI_900_DSCF0756.jpg</td>\n",
       "      <td>CAM_1</td>\n",
       "      <td>2021-05-27 22:01:44</td>\n",
       "      <td>2021-05-27</td>\n",
       "      <td>22:01:44</td>\n",
       "      <td>Full Moon</td>\n",
       "    </tr>\n",
       "    <tr>\n",
       "      <th>2</th>\n",
       "      <td>TF_ACULEI_15294_DSCF0133.jpg</td>\n",
       "      <td>NaN</td>\n",
       "      <td>2023-03-30 20:35:58</td>\n",
       "      <td>2023-03-30</td>\n",
       "      <td>20:35:58</td>\n",
       "      <td>First Quarter</td>\n",
       "    </tr>\n",
       "    <tr>\n",
       "      <th>3</th>\n",
       "      <td>TF_ACULEI_11374_DSCF0064.jpg</td>\n",
       "      <td>CAM_6</td>\n",
       "      <td>2022-06-09 21:29:59</td>\n",
       "      <td>2022-06-09</td>\n",
       "      <td>21:29:59</td>\n",
       "      <td>Waxing Gibbous</td>\n",
       "    </tr>\n",
       "    <tr>\n",
       "      <th>4</th>\n",
       "      <td>TF_ACULEI_4106_DSCF4336.jpg</td>\n",
       "      <td>CAM_1</td>\n",
       "      <td>2021-06-16 23:41:09</td>\n",
       "      <td>2021-06-16</td>\n",
       "      <td>23:41:09</td>\n",
       "      <td>First Quarter</td>\n",
       "    </tr>\n",
       "  </tbody>\n",
       "</table>\n",
       "</div>"
      ],
      "text/plain": [
       "                     image_name camera            date_time        date  \\\n",
       "0   TF_ACULEI_8040_DSCF0129.jpg  CAM_1  2021-07-22 23:04:07  2021-07-22   \n",
       "1    TF_ACULEI_900_DSCF0756.jpg  CAM_1  2021-05-27 22:01:44  2021-05-27   \n",
       "2  TF_ACULEI_15294_DSCF0133.jpg    NaN  2023-03-30 20:35:58  2023-03-30   \n",
       "3  TF_ACULEI_11374_DSCF0064.jpg  CAM_6  2022-06-09 21:29:59  2022-06-09   \n",
       "4   TF_ACULEI_4106_DSCF4336.jpg  CAM_1  2021-06-16 23:41:09  2021-06-16   \n",
       "\n",
       "       time            moon  \n",
       "0  23:04:07       Full Moon  \n",
       "1  22:01:44       Full Moon  \n",
       "2  20:35:58   First Quarter  \n",
       "3  21:29:59  Waxing Gibbous  \n",
       "4  23:41:09   First Quarter  "
      ]
     },
     "execution_count": 5,
     "metadata": {},
     "output_type": "execute_result"
    }
   ],
   "source": [
    "df.head()"
   ]
  },
  {
   "cell_type": "code",
   "execution_count": 6,
   "id": "be55f02e",
   "metadata": {},
   "outputs": [
    {
     "data": {
      "text/plain": [
       "(16874, 6)"
      ]
     },
     "execution_count": 6,
     "metadata": {},
     "output_type": "execute_result"
    }
   ],
   "source": [
    "df.shape"
   ]
  },
  {
   "cell_type": "code",
   "execution_count": 7,
   "id": "2da0cb0f",
   "metadata": {},
   "outputs": [
    {
     "data": {
      "text/plain": [
       "image_name       0\n",
       "camera        4452\n",
       "date_time      103\n",
       "date           103\n",
       "time           103\n",
       "moon           103\n",
       "dtype: int64"
      ]
     },
     "execution_count": 7,
     "metadata": {},
     "output_type": "execute_result"
    }
   ],
   "source": [
    "df.isnull().sum()"
   ]
  },
  {
   "cell_type": "markdown",
   "id": "3c45aa4a",
   "metadata": {},
   "source": [
    "From the output above we can see we are missing\n",
    "\n",
    "- 4452 cameras\n",
    "- 103 dates\n",
    "- 16874 temperatures\n",
    "\n",
    "We'll split the jobs to keep it simple"
   ]
  },
  {
   "cell_type": "markdown",
   "id": "f2b307e6",
   "metadata": {},
   "source": [
    "### Cameras"
   ]
  },
  {
   "cell_type": "markdown",
   "id": "583c375d",
   "metadata": {},
   "source": [
    "We'll filter the dataset keeping only the empty camera rows (we expect 4452 rows)"
   ]
  },
  {
   "cell_type": "code",
   "execution_count": 8,
   "id": "01538664",
   "metadata": {},
   "outputs": [],
   "source": [
    "df_ocr = df.copy()"
   ]
  },
  {
   "cell_type": "code",
   "execution_count": 9,
   "id": "3d6b5f24",
   "metadata": {},
   "outputs": [
    {
     "data": {
      "text/plain": [
       "(16874, 6)"
      ]
     },
     "execution_count": 9,
     "metadata": {},
     "output_type": "execute_result"
    }
   ],
   "source": [
    "df_ocr.shape"
   ]
  },
  {
   "cell_type": "code",
   "execution_count": 10,
   "id": "3481730a",
   "metadata": {},
   "outputs": [
    {
     "data": {
      "text/html": [
       "<div>\n",
       "<style scoped>\n",
       "    .dataframe tbody tr th:only-of-type {\n",
       "        vertical-align: middle;\n",
       "    }\n",
       "\n",
       "    .dataframe tbody tr th {\n",
       "        vertical-align: top;\n",
       "    }\n",
       "\n",
       "    .dataframe thead th {\n",
       "        text-align: right;\n",
       "    }\n",
       "</style>\n",
       "<table border=\"1\" class=\"dataframe\">\n",
       "  <thead>\n",
       "    <tr style=\"text-align: right;\">\n",
       "      <th></th>\n",
       "      <th>image_name</th>\n",
       "      <th>camera</th>\n",
       "      <th>date_time</th>\n",
       "      <th>date</th>\n",
       "      <th>time</th>\n",
       "      <th>moon</th>\n",
       "    </tr>\n",
       "  </thead>\n",
       "  <tbody>\n",
       "    <tr>\n",
       "      <th>13206</th>\n",
       "      <td>TF_ACULEI_3959_DSCF4177.jpg</td>\n",
       "      <td>CAM_1</td>\n",
       "      <td>2021-06-16 00:34:21</td>\n",
       "      <td>2021-06-16</td>\n",
       "      <td>00:34:21</td>\n",
       "      <td>First Quarter</td>\n",
       "    </tr>\n",
       "    <tr>\n",
       "      <th>6598</th>\n",
       "      <td>TF_ACULEI_9195_IMAG0071.jpg</td>\n",
       "      <td>CAM_3</td>\n",
       "      <td>2021-09-09 21:57:48</td>\n",
       "      <td>2021-09-09</td>\n",
       "      <td>21:57:48</td>\n",
       "      <td>Waxing Crescent</td>\n",
       "    </tr>\n",
       "    <tr>\n",
       "      <th>14555</th>\n",
       "      <td>TF_ACULEI_11065_DSCF0212.jpg</td>\n",
       "      <td>CAM_4</td>\n",
       "      <td>2022-05-01 01:39:15</td>\n",
       "      <td>2022-05-01</td>\n",
       "      <td>01:39:15</td>\n",
       "      <td>New Moon</td>\n",
       "    </tr>\n",
       "    <tr>\n",
       "      <th>11237</th>\n",
       "      <td>TF_ACULEI_10240_IMAG0035.jpg</td>\n",
       "      <td>CAM_3</td>\n",
       "      <td>2022-01-05 22:04:40</td>\n",
       "      <td>2022-01-05</td>\n",
       "      <td>22:04:40</td>\n",
       "      <td>Waxing Crescent</td>\n",
       "    </tr>\n",
       "    <tr>\n",
       "      <th>7163</th>\n",
       "      <td>TF_ACULEI_3743_DSCF3961.jpg</td>\n",
       "      <td>CAM_1</td>\n",
       "      <td>2021-06-15 23:52:14</td>\n",
       "      <td>2021-06-15</td>\n",
       "      <td>23:52:14</td>\n",
       "      <td>First Quarter</td>\n",
       "    </tr>\n",
       "  </tbody>\n",
       "</table>\n",
       "</div>"
      ],
      "text/plain": [
       "                         image_name camera            date_time        date  \\\n",
       "13206   TF_ACULEI_3959_DSCF4177.jpg  CAM_1  2021-06-16 00:34:21  2021-06-16   \n",
       "6598    TF_ACULEI_9195_IMAG0071.jpg  CAM_3  2021-09-09 21:57:48  2021-09-09   \n",
       "14555  TF_ACULEI_11065_DSCF0212.jpg  CAM_4  2022-05-01 01:39:15  2022-05-01   \n",
       "11237  TF_ACULEI_10240_IMAG0035.jpg  CAM_3  2022-01-05 22:04:40  2022-01-05   \n",
       "7163    TF_ACULEI_3743_DSCF3961.jpg  CAM_1  2021-06-15 23:52:14  2021-06-15   \n",
       "\n",
       "           time             moon  \n",
       "13206  00:34:21    First Quarter  \n",
       "6598   21:57:48  Waxing Crescent  \n",
       "14555  01:39:15         New Moon  \n",
       "11237  22:04:40  Waxing Crescent  \n",
       "7163   23:52:14    First Quarter  "
      ]
     },
     "execution_count": 10,
     "metadata": {},
     "output_type": "execute_result"
    }
   ],
   "source": [
    "df_ocr.sample(5)"
   ]
  },
  {
   "cell_type": "markdown",
   "id": "f3513c54",
   "metadata": {},
   "source": [
    "Using [pytesseract](https://pypi.org/project/pytesseract/) we can extract text from the images. We decided to crop the images to achieve better results.\n",
    "The output string from pytesseract is not tokenized or anything so we used RegExp to extract relevant information from the whole string\n"
   ]
  },
  {
   "cell_type": "code",
   "execution_count": 25,
   "id": "2dd2e2aa",
   "metadata": {},
   "outputs": [],
   "source": [
    "def parse_date(date_string):\n",
    "        for format in [\"%Y/%m/%d\", \"%d/%m/%Y\"]:\n",
    "            try:\n",
    "                return datetime.strptime(date_string, format)\n",
    "            except ValueError:\n",
    "                pass\n",
    "        return None"
   ]
  },
  {
   "cell_type": "code",
   "execution_count": 33,
   "id": "6e5bf1bb",
   "metadata": {},
   "outputs": [
    {
     "name": "stderr",
     "output_type": "stream",
     "text": [
      "  1%|          | 176/16874 [01:29<2:20:54,  1.97it/s]\n"
     ]
    },
    {
     "ename": "KeyboardInterrupt",
     "evalue": "",
     "output_type": "error",
     "traceback": [
      "\u001b[0;31m---------------------------------------------------------------------------\u001b[0m",
      "\u001b[0;31mKeyboardInterrupt\u001b[0m                         Traceback (most recent call last)",
      "Cell \u001b[0;32mIn[33], line 18\u001b[0m\n\u001b[1;32m     15\u001b[0m lower \u001b[38;5;241m=\u001b[39m \u001b[38;5;28mint\u001b[39m(height \u001b[38;5;241m*\u001b[39m \u001b[38;5;241m17\u001b[39m \u001b[38;5;241m/\u001b[39m \u001b[38;5;241m18\u001b[39m)  \u001b[38;5;66;03m# keep only the bottom 1/3 of the image\u001b[39;00m\n\u001b[1;32m     17\u001b[0m \u001b[38;5;66;03m# crop the image\u001b[39;00m\n\u001b[0;32m---> 18\u001b[0m cropped_image \u001b[38;5;241m=\u001b[39m \u001b[43mimage\u001b[49m\u001b[38;5;241;43m.\u001b[39;49m\u001b[43mcrop\u001b[49m\u001b[43m(\u001b[49m\u001b[43m(\u001b[49m\u001b[43mleft\u001b[49m\u001b[43m,\u001b[49m\u001b[43m \u001b[49m\u001b[43mlower\u001b[49m\u001b[43m,\u001b[49m\u001b[43m \u001b[49m\u001b[43mright\u001b[49m\u001b[43m,\u001b[49m\u001b[43m \u001b[49m\u001b[43mheight\u001b[49m\u001b[43m)\u001b[49m\u001b[43m)\u001b[49m\n\u001b[1;32m     20\u001b[0m text \u001b[38;5;241m=\u001b[39m pytesseract\u001b[38;5;241m.\u001b[39mimage_to_string(cropped_image, config\u001b[38;5;241m=\u001b[39m\u001b[38;5;124m'\u001b[39m\u001b[38;5;124m--psm 3\u001b[39m\u001b[38;5;124m'\u001b[39m)\n\u001b[1;32m     22\u001b[0m celsius_pattern \u001b[38;5;241m=\u001b[39m \u001b[38;5;124mr\u001b[39m\u001b[38;5;124m'\u001b[39m\u001b[38;5;124m\\\u001b[39m\u001b[38;5;124mb\u001b[39m\u001b[38;5;124m\\\u001b[39m\u001b[38;5;124md+\u001b[39m\u001b[38;5;124m\\\u001b[39m\u001b[38;5;124ms*[°]\u001b[39m\u001b[38;5;124m\\\u001b[39m\u001b[38;5;124ms*C\u001b[39m\u001b[38;5;124m\\\u001b[39m\u001b[38;5;124mb\u001b[39m\u001b[38;5;124m'\u001b[39m\n",
      "File \u001b[0;32m/opt/homebrew/lib/python3.11/site-packages/PIL/Image.py:1206\u001b[0m, in \u001b[0;36mImage.crop\u001b[0;34m(self, box)\u001b[0m\n\u001b[1;32m   1203\u001b[0m     msg \u001b[38;5;241m=\u001b[39m \u001b[38;5;124m\"\u001b[39m\u001b[38;5;124mCoordinate \u001b[39m\u001b[38;5;124m'\u001b[39m\u001b[38;5;124mlower\u001b[39m\u001b[38;5;124m'\u001b[39m\u001b[38;5;124m is less than \u001b[39m\u001b[38;5;124m'\u001b[39m\u001b[38;5;124mupper\u001b[39m\u001b[38;5;124m'\u001b[39m\u001b[38;5;124m\"\u001b[39m\n\u001b[1;32m   1204\u001b[0m     \u001b[38;5;28;01mraise\u001b[39;00m \u001b[38;5;167;01mValueError\u001b[39;00m(msg)\n\u001b[0;32m-> 1206\u001b[0m \u001b[38;5;28;43mself\u001b[39;49m\u001b[38;5;241;43m.\u001b[39;49m\u001b[43mload\u001b[49m\u001b[43m(\u001b[49m\u001b[43m)\u001b[49m\n\u001b[1;32m   1207\u001b[0m \u001b[38;5;28;01mreturn\u001b[39;00m \u001b[38;5;28mself\u001b[39m\u001b[38;5;241m.\u001b[39m_new(\u001b[38;5;28mself\u001b[39m\u001b[38;5;241m.\u001b[39m_crop(\u001b[38;5;28mself\u001b[39m\u001b[38;5;241m.\u001b[39mim, box))\n",
      "File \u001b[0;32m/opt/homebrew/lib/python3.11/site-packages/PIL/ImageFile.py:269\u001b[0m, in \u001b[0;36mImageFile.load\u001b[0;34m(self)\u001b[0m\n\u001b[1;32m    266\u001b[0m         \u001b[38;5;28;01mraise\u001b[39;00m \u001b[38;5;167;01mOSError\u001b[39;00m(msg)\n\u001b[1;32m    268\u001b[0m b \u001b[38;5;241m=\u001b[39m b \u001b[38;5;241m+\u001b[39m s\n\u001b[0;32m--> 269\u001b[0m n, err_code \u001b[38;5;241m=\u001b[39m \u001b[43mdecoder\u001b[49m\u001b[38;5;241;43m.\u001b[39;49m\u001b[43mdecode\u001b[49m\u001b[43m(\u001b[49m\u001b[43mb\u001b[49m\u001b[43m)\u001b[49m\n\u001b[1;32m    270\u001b[0m \u001b[38;5;28;01mif\u001b[39;00m n \u001b[38;5;241m<\u001b[39m \u001b[38;5;241m0\u001b[39m:\n\u001b[1;32m    271\u001b[0m     \u001b[38;5;28;01mbreak\u001b[39;00m\n",
      "\u001b[0;31mKeyboardInterrupt\u001b[0m: "
     ]
    }
   ],
   "source": [
    "for index, row in tqdm(df_ocr.iterrows(), total=len(df_ocr)):\n",
    "    image_path = os.path.join(image_dir, row['image_name'])\n",
    "    if os.path.isdir(image_path) and image_path.startswith(\".\"):\n",
    "        continue \n",
    "    \n",
    "    image = Image.open(image_path)\n",
    "    \n",
    "    # get image dimensions\n",
    "    width, height = image.size\n",
    "    \n",
    "    # define the coordinates for cropping\n",
    "    left = 0\n",
    "    upper = 0\n",
    "    right = width\n",
    "    lower = int(height * 17 / 18)  # keep only the bottom 1/3 of the image\n",
    "    \n",
    "    # crop the image\n",
    "    cropped_image = image.crop((left, lower, right, height))\n",
    "    \n",
    "    text = pytesseract.image_to_string(cropped_image, config='--psm 3')\n",
    "\n",
    "    celsius_pattern = r'\\b\\d+\\s*[°]\\s*C\\b'\n",
    "    cam_pattern = r'\\bCA\\S*'\n",
    "    date_pattern = r'\\b\\d{4}[-/]\\d{2}[-/]\\d{2}\\b|\\b\\d{2}[-/]\\d{2}[-/]\\d{4}\\b'    \n",
    "    time_pattern = r'\\b\\d{1,2}:\\d{2}:\\d{2}\\b'\n",
    "\n",
    "    celsius_matches = re.findall(celsius_pattern, text)\n",
    "    cam_matches = re.findall(cam_pattern, text)\n",
    "    date_matches = re.findall(date_pattern, text)\n",
    "    time_matches = re.findall(time_pattern, text)\n",
    "    \n",
    "    # saving results\n",
    "    row[\"temp\"] = celsius_matches[0] if celsius_matches else None\n",
    "    row[\"camera\"] = cam_matches[0] if cam_matches else None\n",
    "    \n",
    "    # preprocessing the date\n",
    "    if date_matches:\n",
    "        parsed_date = parse_date(date_matches[0])\n",
    "        if parsed_date is not None:\n",
    "            formatted_date = parsed_date.strftime(\"%Y-%m-%d\")\n",
    "            row[\"date\"] = formatted_date\n",
    "   \n",
    "    row[\"time\"] = time_matches[0] if time_matches else None\n",
    "   \n",
    "    if time_matches and formatted_date:\n",
    "        row[\"datetime\"] = formatted_date + \" \" + time_matches[0] "
   ]
  },
  {
   "cell_type": "markdown",
   "id": "e636333c",
   "metadata": {},
   "source": []
  },
  {
   "cell_type": "code",
   "execution_count": null,
   "id": "edfd6a97",
   "metadata": {},
   "outputs": [],
   "source": [
    "df_camera.head(5)"
   ]
  },
  {
   "cell_type": "markdown",
   "id": "b3651ecb",
   "metadata": {},
   "source": [
    "It seems that the ocr recognized a lot of cameras but some of them are not well formatted (e.g CAME), so we have to understand what they stands for and substitute with the correct camera if possible. Otherwise we can simply drop them."
   ]
  },
  {
   "cell_type": "code",
   "execution_count": null,
   "id": "a7462221",
   "metadata": {},
   "outputs": [],
   "source": [
    "df_camera['camera'].value_counts()"
   ]
  },
  {
   "cell_type": "code",
   "execution_count": null,
   "id": "2aaba8c3",
   "metadata": {},
   "outputs": [],
   "source": [
    "df_camera.isnull().sum()"
   ]
  },
  {
   "cell_type": "markdown",
   "id": "dceaa4bf",
   "metadata": {},
   "source": [
    "We reached only 537 falsy cameras but we decided to drop the ones not well formatted"
   ]
  },
  {
   "cell_type": "code",
   "execution_count": null,
   "id": "04de9f4b",
   "metadata": {},
   "outputs": [],
   "source": [
    "%%capture\n",
    "\n",
    "# drop the camera from ocr not well formatted\n",
    "valid_cameras = [f'CAM{i}' for i in range(1, 8)]\n",
    "df_camera['camera'] = df_camera['camera'].apply(lambda x: x if x in valid_cameras else None)"
   ]
  },
  {
   "cell_type": "code",
   "execution_count": null,
   "id": "ff3ee36e",
   "metadata": {},
   "outputs": [],
   "source": [
    "df_camera.isnull().sum()"
   ]
  },
  {
   "cell_type": "code",
   "execution_count": null,
   "id": "697ae8d3",
   "metadata": {},
   "outputs": [],
   "source": [
    "df_camera['camera'].value_counts()"
   ]
  },
  {
   "cell_type": "markdown",
   "id": "50fe179a",
   "metadata": {},
   "source": [
    "We want to format the camera recognized with the ocr (from CAM7 to CAM_7)"
   ]
  },
  {
   "cell_type": "code",
   "execution_count": null,
   "id": "e3510385",
   "metadata": {},
   "outputs": [],
   "source": [
    "fail here"
   ]
  },
  {
   "cell_type": "code",
   "execution_count": null,
   "id": "05dc8a06",
   "metadata": {},
   "outputs": [],
   "source": []
  },
  {
   "cell_type": "markdown",
   "id": "41f46eca",
   "metadata": {},
   "source": [
    "So we lost only **2395** cameras using OCR for camera recognition\n",
    "\n",
    "Now let's check some results"
   ]
  },
  {
   "cell_type": "code",
   "execution_count": null,
   "metadata": {},
   "outputs": [],
   "source": [
    "import matplotlib.pyplot as plt\n",
    "import random\n",
    "\n",
    "image_folder_path = '../images/aculei-images/'\n",
    "\n",
    "# extract four random images from the dataset\n",
    "valid_rows = df_camera.dropna(subset=['camera'])\n",
    "six_random_rows = valid_rows.sample(n=6, random_state=random.seed())\n",
    "image_folder_path = '../images/aculei-images/'\n",
    "\n",
    "fig, ((ax1, ax2, ax3), (ax4, ax5, ax6)) = plt.subplots(2, 3, figsize=(16, 9))\n",
    "fig.suptitle('OCR results', fontsize=15)\n",
    "\n",
    "axes = [ax1, ax2, ax3, ax4, ax5, ax6]\n",
    "\n",
    "for i, ax in enumerate(axes):\n",
    "    image_path = os.path.join(image_folder_path, six_random_rows.iloc[i]['image_name'])\n",
    "    image = Image.open(image_path)\n",
    "    ax.imshow(image, aspect='auto')\n",
    "    ax.axis('off')\n",
    "\n",
    "    camera_info = six_random_rows.iloc[i]['camera']\n",
    "    ax.set_title(f\"Camera recognized by ocr: {camera_info}\", fontsize=10)\n",
    "\n",
    "plt.tight_layout()\n",
    "plt.show()"
   ]
  },
  {
   "cell_type": "markdown",
   "id": "2f63b51b",
   "metadata": {},
   "source": [
    "Now we can merge results in the original dataframe and save it! we didn't compute the hash so we use the image name as merge key for now"
   ]
  },
  {
   "cell_type": "code",
   "execution_count": null,
   "id": "24f0939c",
   "metadata": {},
   "outputs": [],
   "source": [
    "# checking if image name is a safe key\n",
    "print(len(df['image_name']))\n",
    "print(df.shape[0])"
   ]
  },
  {
   "cell_type": "code",
   "execution_count": null,
   "id": "a6884ec2",
   "metadata": {},
   "outputs": [],
   "source": [
    "merged_camera = df.merge(df_camera[['image_name', 'camera']], on='image_name', how='left', suffixes=('', '_camera'))\n",
    "\n",
    "# Fill missing 'camera' values in 'df' with values from 'df_camera'\n",
    "merged_camera['camera'] = merged_camera['camera'].combine_first(merged_camera['camera_camera'])\n",
    "\n",
    "# Drop the extra 'camera_camera' column\n",
    "merged_camera.drop('camera_camera', axis=1, inplace=True)  \n"
   ]
  },
  {
   "cell_type": "code",
   "execution_count": null,
   "id": "87637f18",
   "metadata": {},
   "outputs": [],
   "source": [
    "merged_camera.isnull().sum()"
   ]
  },
  {
   "cell_type": "code",
   "execution_count": null,
   "id": "1492035f",
   "metadata": {},
   "outputs": [],
   "source": [
    "# save it!\n",
    "merged_camera.to_csv('../aculei.csv')"
   ]
  }
 ],
 "metadata": {
  "kernelspec": {
   "display_name": "Python 3 (ipykernel)",
   "language": "python",
   "name": "python3"
  },
  "language_info": {
   "codemirror_mode": {
    "name": "ipython",
    "version": 3
   },
   "file_extension": ".py",
   "mimetype": "text/x-python",
   "name": "python",
   "nbconvert_exporter": "python",
   "pygments_lexer": "ipython3",
   "version": "3.10.12"
  }
 },
 "nbformat": 4,
 "nbformat_minor": 5
}
