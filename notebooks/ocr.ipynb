{
 "cells": [
  {
   "cell_type": "markdown",
   "id": "e7a72002-6ef3-46b7-9ea4-5e854f01d8b4",
   "metadata": {},
   "source": [
    "### OCR"
   ]
  },
  {
   "cell_type": "code",
   "execution_count": 26,
   "id": "bbcabe09-e44c-49ce-895f-929272dc1a76",
   "metadata": {},
   "outputs": [],
   "source": [
    "import pandas as pd\n",
    "import numpy as np\n",
    "from datetime import datetime\n",
    "\n",
    "import os\n",
    "\n",
    "import pytesseract\n",
    "import PIL.Image\n",
    "if not hasattr(PIL.Image, 'Resampling'):\n",
    "    PIL.Image.Resampling = PIL.Image\n",
    "from PIL import Image\n",
    "from tqdm import tqdm\n",
    "import re"
   ]
  },
  {
   "cell_type": "code",
   "execution_count": 27,
   "id": "fa87d6a3-f0c5-4f29-9ba8-77e237fb1486",
   "metadata": {},
   "outputs": [],
   "source": [
    "# image directory\n",
    "image_dir = '../images/aculei-images/'"
   ]
  },
  {
   "cell_type": "code",
   "execution_count": 28,
   "id": "6dab3082-a48a-49a9-a91f-706380a655fd",
   "metadata": {},
   "outputs": [],
   "source": [
    "# reading the dataframe\n",
    "df = pd.read_csv('../datasets/metadata.csv', index_col=0)"
   ]
  },
  {
   "cell_type": "markdown",
   "id": "de4ae823",
   "metadata": {},
   "source": [
    "We want to fill the missing data which were not available through metadata using ocr techniques\n",
    "\n",
    "The missing data are:\n",
    "\n",
    "- some **cameras**\n",
    "- some **date(time)**\n",
    "- all **temperatures**\n",
    "\n",
    "So we have to filter the dataframe and try to fill in the missing data for the camera column and then we'll do the same thing for the temparature column (which is not present yet)\n"
   ]
  },
  {
   "cell_type": "markdown",
   "id": "53f25a08",
   "metadata": {},
   "source": []
  },
  {
   "cell_type": "code",
   "execution_count": 29,
   "id": "d3ee7dbf-73f4-4a3c-9e75-65bf0b2491ec",
   "metadata": {},
   "outputs": [
    {
     "data": {
      "text/html": [
       "<div>\n",
       "<style scoped>\n",
       "    .dataframe tbody tr th:only-of-type {\n",
       "        vertical-align: middle;\n",
       "    }\n",
       "\n",
       "    .dataframe tbody tr th {\n",
       "        vertical-align: top;\n",
       "    }\n",
       "\n",
       "    .dataframe thead th {\n",
       "        text-align: right;\n",
       "    }\n",
       "</style>\n",
       "<table border=\"1\" class=\"dataframe\">\n",
       "  <thead>\n",
       "    <tr style=\"text-align: right;\">\n",
       "      <th></th>\n",
       "      <th>image_name</th>\n",
       "      <th>camera</th>\n",
       "      <th>date_time</th>\n",
       "      <th>date</th>\n",
       "      <th>time</th>\n",
       "      <th>moon</th>\n",
       "    </tr>\n",
       "  </thead>\n",
       "  <tbody>\n",
       "    <tr>\n",
       "      <th>0</th>\n",
       "      <td>TF_ACULEI_8040_DSCF0129.jpg</td>\n",
       "      <td>CAM_1</td>\n",
       "      <td>2021-07-22 23:04:07</td>\n",
       "      <td>2021-07-22</td>\n",
       "      <td>23:04:07</td>\n",
       "      <td>Full Moon</td>\n",
       "    </tr>\n",
       "    <tr>\n",
       "      <th>1</th>\n",
       "      <td>TF_ACULEI_900_DSCF0756.jpg</td>\n",
       "      <td>CAM_1</td>\n",
       "      <td>2021-05-27 22:01:44</td>\n",
       "      <td>2021-05-27</td>\n",
       "      <td>22:01:44</td>\n",
       "      <td>Full Moon</td>\n",
       "    </tr>\n",
       "    <tr>\n",
       "      <th>2</th>\n",
       "      <td>TF_ACULEI_15294_DSCF0133.jpg</td>\n",
       "      <td>NaN</td>\n",
       "      <td>2023-03-30 20:35:58</td>\n",
       "      <td>2023-03-30</td>\n",
       "      <td>20:35:58</td>\n",
       "      <td>First Quarter</td>\n",
       "    </tr>\n",
       "    <tr>\n",
       "      <th>3</th>\n",
       "      <td>TF_ACULEI_11374_DSCF0064.jpg</td>\n",
       "      <td>CAM_6</td>\n",
       "      <td>2022-06-09 21:29:59</td>\n",
       "      <td>2022-06-09</td>\n",
       "      <td>21:29:59</td>\n",
       "      <td>Waxing Gibbous</td>\n",
       "    </tr>\n",
       "    <tr>\n",
       "      <th>4</th>\n",
       "      <td>TF_ACULEI_4106_DSCF4336.jpg</td>\n",
       "      <td>CAM_1</td>\n",
       "      <td>2021-06-16 23:41:09</td>\n",
       "      <td>2021-06-16</td>\n",
       "      <td>23:41:09</td>\n",
       "      <td>First Quarter</td>\n",
       "    </tr>\n",
       "  </tbody>\n",
       "</table>\n",
       "</div>"
      ],
      "text/plain": [
       "                     image_name camera            date_time        date  \\\n",
       "0   TF_ACULEI_8040_DSCF0129.jpg  CAM_1  2021-07-22 23:04:07  2021-07-22   \n",
       "1    TF_ACULEI_900_DSCF0756.jpg  CAM_1  2021-05-27 22:01:44  2021-05-27   \n",
       "2  TF_ACULEI_15294_DSCF0133.jpg    NaN  2023-03-30 20:35:58  2023-03-30   \n",
       "3  TF_ACULEI_11374_DSCF0064.jpg  CAM_6  2022-06-09 21:29:59  2022-06-09   \n",
       "4   TF_ACULEI_4106_DSCF4336.jpg  CAM_1  2021-06-16 23:41:09  2021-06-16   \n",
       "\n",
       "       time            moon  \n",
       "0  23:04:07       Full Moon  \n",
       "1  22:01:44       Full Moon  \n",
       "2  20:35:58   First Quarter  \n",
       "3  21:29:59  Waxing Gibbous  \n",
       "4  23:41:09   First Quarter  "
      ]
     },
     "execution_count": 29,
     "metadata": {},
     "output_type": "execute_result"
    }
   ],
   "source": [
    "df.head()"
   ]
  },
  {
   "cell_type": "code",
   "execution_count": 30,
   "id": "be55f02e",
   "metadata": {},
   "outputs": [
    {
     "data": {
      "text/plain": [
       "(16874, 6)"
      ]
     },
     "execution_count": 30,
     "metadata": {},
     "output_type": "execute_result"
    }
   ],
   "source": [
    "df.shape"
   ]
  },
  {
   "cell_type": "code",
   "execution_count": 31,
   "id": "2da0cb0f",
   "metadata": {},
   "outputs": [
    {
     "data": {
      "text/plain": [
       "image_name       0\n",
       "camera        4452\n",
       "date_time      103\n",
       "date           103\n",
       "time           103\n",
       "moon           103\n",
       "dtype: int64"
      ]
     },
     "execution_count": 31,
     "metadata": {},
     "output_type": "execute_result"
    }
   ],
   "source": [
    "df.isnull().sum()"
   ]
  },
  {
   "cell_type": "markdown",
   "id": "3c45aa4a",
   "metadata": {},
   "source": [
    "From the output above we can see we are missing\n",
    "\n",
    "- 4452 cameras\n",
    "- 103 dates\n",
    "- 16874 temperatures\n",
    "\n",
    "We'll split the jobs to keep it simple"
   ]
  },
  {
   "cell_type": "markdown",
   "id": "f2b307e6",
   "metadata": {},
   "source": [
    "### Cameras"
   ]
  },
  {
   "cell_type": "markdown",
   "id": "583c375d",
   "metadata": {},
   "source": [
    "We'll filter the dataset keeping only the empty camera rows (we expect 4452 rows)"
   ]
  },
  {
   "cell_type": "code",
   "execution_count": 32,
   "id": "01538664",
   "metadata": {},
   "outputs": [],
   "source": [
    "df_ocr = df.copy()"
   ]
  },
  {
   "cell_type": "code",
   "execution_count": 33,
   "id": "3d6b5f24",
   "metadata": {},
   "outputs": [
    {
     "data": {
      "text/plain": [
       "(16874, 6)"
      ]
     },
     "execution_count": 33,
     "metadata": {},
     "output_type": "execute_result"
    }
   ],
   "source": [
    "df_ocr.shape"
   ]
  },
  {
   "cell_type": "code",
   "execution_count": 34,
   "id": "3481730a",
   "metadata": {},
   "outputs": [
    {
     "data": {
      "text/html": [
       "<div>\n",
       "<style scoped>\n",
       "    .dataframe tbody tr th:only-of-type {\n",
       "        vertical-align: middle;\n",
       "    }\n",
       "\n",
       "    .dataframe tbody tr th {\n",
       "        vertical-align: top;\n",
       "    }\n",
       "\n",
       "    .dataframe thead th {\n",
       "        text-align: right;\n",
       "    }\n",
       "</style>\n",
       "<table border=\"1\" class=\"dataframe\">\n",
       "  <thead>\n",
       "    <tr style=\"text-align: right;\">\n",
       "      <th></th>\n",
       "      <th>image_name</th>\n",
       "      <th>camera</th>\n",
       "      <th>date_time</th>\n",
       "      <th>date</th>\n",
       "      <th>time</th>\n",
       "      <th>moon</th>\n",
       "    </tr>\n",
       "  </thead>\n",
       "  <tbody>\n",
       "    <tr>\n",
       "      <th>16723</th>\n",
       "      <td>TF_ACULEI_4695_DSCF4959.jpg</td>\n",
       "      <td>CAM_1</td>\n",
       "      <td>2021-06-18 03:32:23</td>\n",
       "      <td>2021-06-18</td>\n",
       "      <td>03:32:23</td>\n",
       "      <td>First Quarter</td>\n",
       "    </tr>\n",
       "    <tr>\n",
       "      <th>10826</th>\n",
       "      <td>TF_ACULEI_9563_DSCF0378.jpg</td>\n",
       "      <td>CAM_1</td>\n",
       "      <td>2021-10-22 02:45:10</td>\n",
       "      <td>2021-10-22</td>\n",
       "      <td>02:45:10</td>\n",
       "      <td>Full Moon</td>\n",
       "    </tr>\n",
       "    <tr>\n",
       "      <th>3022</th>\n",
       "      <td>TF_ACULEI_13878_DSCF0646.jpg</td>\n",
       "      <td>NaN</td>\n",
       "      <td>2023-01-22 04:22:01</td>\n",
       "      <td>2023-01-22</td>\n",
       "      <td>04:22:01</td>\n",
       "      <td>New Moon</td>\n",
       "    </tr>\n",
       "    <tr>\n",
       "      <th>10026</th>\n",
       "      <td>TF_ACULEI_7350_DSCF7696.jpg</td>\n",
       "      <td>CAM_1</td>\n",
       "      <td>2021-07-03 02:53:55</td>\n",
       "      <td>2021-07-03</td>\n",
       "      <td>02:53:55</td>\n",
       "      <td>Last Quarter</td>\n",
       "    </tr>\n",
       "    <tr>\n",
       "      <th>6928</th>\n",
       "      <td>TF_ACULEI_690_DSCF0544.jpg</td>\n",
       "      <td>CAM_1</td>\n",
       "      <td>2021-05-25 23:58:40</td>\n",
       "      <td>2021-05-25</td>\n",
       "      <td>23:58:40</td>\n",
       "      <td>Full Moon</td>\n",
       "    </tr>\n",
       "  </tbody>\n",
       "</table>\n",
       "</div>"
      ],
      "text/plain": [
       "                         image_name camera            date_time        date  \\\n",
       "16723   TF_ACULEI_4695_DSCF4959.jpg  CAM_1  2021-06-18 03:32:23  2021-06-18   \n",
       "10826   TF_ACULEI_9563_DSCF0378.jpg  CAM_1  2021-10-22 02:45:10  2021-10-22   \n",
       "3022   TF_ACULEI_13878_DSCF0646.jpg    NaN  2023-01-22 04:22:01  2023-01-22   \n",
       "10026   TF_ACULEI_7350_DSCF7696.jpg  CAM_1  2021-07-03 02:53:55  2021-07-03   \n",
       "6928     TF_ACULEI_690_DSCF0544.jpg  CAM_1  2021-05-25 23:58:40  2021-05-25   \n",
       "\n",
       "           time           moon  \n",
       "16723  03:32:23  First Quarter  \n",
       "10826  02:45:10      Full Moon  \n",
       "3022   04:22:01       New Moon  \n",
       "10026  02:53:55   Last Quarter  \n",
       "6928   23:58:40      Full Moon  "
      ]
     },
     "execution_count": 34,
     "metadata": {},
     "output_type": "execute_result"
    }
   ],
   "source": [
    "df_ocr.sample(5)"
   ]
  },
  {
   "cell_type": "markdown",
   "id": "f3513c54",
   "metadata": {},
   "source": [
    "Using [pytesseract](https://pypi.org/project/pytesseract/) we can extract text from the images. We decided to crop the images to achieve better results.\n",
    "The output string from pytesseract is not tokenized or anything so we used RegExp to extract relevant information from the whole string\n"
   ]
  },
  {
   "cell_type": "markdown",
   "id": "23c63441",
   "metadata": {},
   "source": [
    "We had to provide different time formats translations because the metadata about date are diffent from image to image"
   ]
  },
  {
   "cell_type": "code",
   "execution_count": 35,
   "id": "2dd2e2aa",
   "metadata": {},
   "outputs": [],
   "source": [
    "def parse_date(date_string):\n",
    "    for format in [\"%Y/%m/%d\", \"%d/%m/%Y\"]:\n",
    "        try:\n",
    "            return datetime.strptime(date_string, format)\n",
    "        except ValueError:\n",
    "            pass\n",
    "    return None"
   ]
  },
  {
   "cell_type": "code",
   "execution_count": 36,
   "id": "6e5bf1bb",
   "metadata": {},
   "outputs": [
    {
     "name": "stderr",
     "output_type": "stream",
     "text": [
      " 24%|██▎       | 3994/16874 [26:42<1:26:07,  2.49it/s]\n"
     ]
    },
    {
     "ename": "KeyboardInterrupt",
     "evalue": "",
     "output_type": "error",
     "traceback": [
      "\u001b[0;31m---------------------------------------------------------------------------\u001b[0m",
      "\u001b[0;31mKeyboardInterrupt\u001b[0m                         Traceback (most recent call last)",
      "\u001b[0;32m/var/folders/8h/v6jk3q7d5xl_fltyymspzdv40000gn/T/ipykernel_43014/1695127381.py\u001b[0m in \u001b[0;36m<module>\u001b[0;34m\u001b[0m\n\u001b[1;32m     18\u001b[0m     \u001b[0mcropped_image\u001b[0m \u001b[0;34m=\u001b[0m \u001b[0mimage\u001b[0m\u001b[0;34m.\u001b[0m\u001b[0mcrop\u001b[0m\u001b[0;34m(\u001b[0m\u001b[0;34m(\u001b[0m\u001b[0mleft\u001b[0m\u001b[0;34m,\u001b[0m \u001b[0mlower\u001b[0m\u001b[0;34m,\u001b[0m \u001b[0mright\u001b[0m\u001b[0;34m,\u001b[0m \u001b[0mheight\u001b[0m\u001b[0;34m)\u001b[0m\u001b[0;34m)\u001b[0m\u001b[0;34m\u001b[0m\u001b[0;34m\u001b[0m\u001b[0m\n\u001b[1;32m     19\u001b[0m \u001b[0;34m\u001b[0m\u001b[0m\n\u001b[0;32m---> 20\u001b[0;31m     \u001b[0mtext\u001b[0m \u001b[0;34m=\u001b[0m \u001b[0mpytesseract\u001b[0m\u001b[0;34m.\u001b[0m\u001b[0mimage_to_string\u001b[0m\u001b[0;34m(\u001b[0m\u001b[0mcropped_image\u001b[0m\u001b[0;34m,\u001b[0m \u001b[0mconfig\u001b[0m\u001b[0;34m=\u001b[0m\u001b[0;34m'--psm 3'\u001b[0m\u001b[0;34m)\u001b[0m\u001b[0;34m\u001b[0m\u001b[0;34m\u001b[0m\u001b[0m\n\u001b[0m\u001b[1;32m     21\u001b[0m \u001b[0;34m\u001b[0m\u001b[0m\n\u001b[1;32m     22\u001b[0m     '''\n",
      "\u001b[0;32m/Library/Frameworks/Python.framework/Versions/3.10/lib/python3.10/site-packages/pytesseract/pytesseract.py\u001b[0m in \u001b[0;36mimage_to_string\u001b[0;34m(image, lang, config, nice, output_type, timeout)\u001b[0m\n\u001b[1;32m    421\u001b[0m     \u001b[0margs\u001b[0m \u001b[0;34m=\u001b[0m \u001b[0;34m[\u001b[0m\u001b[0mimage\u001b[0m\u001b[0;34m,\u001b[0m \u001b[0;34m'txt'\u001b[0m\u001b[0;34m,\u001b[0m \u001b[0mlang\u001b[0m\u001b[0;34m,\u001b[0m \u001b[0mconfig\u001b[0m\u001b[0;34m,\u001b[0m \u001b[0mnice\u001b[0m\u001b[0;34m,\u001b[0m \u001b[0mtimeout\u001b[0m\u001b[0;34m]\u001b[0m\u001b[0;34m\u001b[0m\u001b[0;34m\u001b[0m\u001b[0m\n\u001b[1;32m    422\u001b[0m \u001b[0;34m\u001b[0m\u001b[0m\n\u001b[0;32m--> 423\u001b[0;31m     return {\n\u001b[0m\u001b[1;32m    424\u001b[0m         \u001b[0mOutput\u001b[0m\u001b[0;34m.\u001b[0m\u001b[0mBYTES\u001b[0m\u001b[0;34m:\u001b[0m \u001b[0;32mlambda\u001b[0m\u001b[0;34m:\u001b[0m \u001b[0mrun_and_get_output\u001b[0m\u001b[0;34m(\u001b[0m\u001b[0;34m*\u001b[0m\u001b[0;34m(\u001b[0m\u001b[0margs\u001b[0m \u001b[0;34m+\u001b[0m \u001b[0;34m[\u001b[0m\u001b[0;32mTrue\u001b[0m\u001b[0;34m]\u001b[0m\u001b[0;34m)\u001b[0m\u001b[0;34m)\u001b[0m\u001b[0;34m,\u001b[0m\u001b[0;34m\u001b[0m\u001b[0;34m\u001b[0m\u001b[0m\n\u001b[1;32m    425\u001b[0m         \u001b[0mOutput\u001b[0m\u001b[0;34m.\u001b[0m\u001b[0mDICT\u001b[0m\u001b[0;34m:\u001b[0m \u001b[0;32mlambda\u001b[0m\u001b[0;34m:\u001b[0m \u001b[0;34m{\u001b[0m\u001b[0;34m'text'\u001b[0m\u001b[0;34m:\u001b[0m \u001b[0mrun_and_get_output\u001b[0m\u001b[0;34m(\u001b[0m\u001b[0;34m*\u001b[0m\u001b[0margs\u001b[0m\u001b[0;34m)\u001b[0m\u001b[0;34m}\u001b[0m\u001b[0;34m,\u001b[0m\u001b[0;34m\u001b[0m\u001b[0;34m\u001b[0m\u001b[0m\n",
      "\u001b[0;32m/Library/Frameworks/Python.framework/Versions/3.10/lib/python3.10/site-packages/pytesseract/pytesseract.py\u001b[0m in \u001b[0;36m<lambda>\u001b[0;34m()\u001b[0m\n\u001b[1;32m    424\u001b[0m         \u001b[0mOutput\u001b[0m\u001b[0;34m.\u001b[0m\u001b[0mBYTES\u001b[0m\u001b[0;34m:\u001b[0m \u001b[0;32mlambda\u001b[0m\u001b[0;34m:\u001b[0m \u001b[0mrun_and_get_output\u001b[0m\u001b[0;34m(\u001b[0m\u001b[0;34m*\u001b[0m\u001b[0;34m(\u001b[0m\u001b[0margs\u001b[0m \u001b[0;34m+\u001b[0m \u001b[0;34m[\u001b[0m\u001b[0;32mTrue\u001b[0m\u001b[0;34m]\u001b[0m\u001b[0;34m)\u001b[0m\u001b[0;34m)\u001b[0m\u001b[0;34m,\u001b[0m\u001b[0;34m\u001b[0m\u001b[0;34m\u001b[0m\u001b[0m\n\u001b[1;32m    425\u001b[0m         \u001b[0mOutput\u001b[0m\u001b[0;34m.\u001b[0m\u001b[0mDICT\u001b[0m\u001b[0;34m:\u001b[0m \u001b[0;32mlambda\u001b[0m\u001b[0;34m:\u001b[0m \u001b[0;34m{\u001b[0m\u001b[0;34m'text'\u001b[0m\u001b[0;34m:\u001b[0m \u001b[0mrun_and_get_output\u001b[0m\u001b[0;34m(\u001b[0m\u001b[0;34m*\u001b[0m\u001b[0margs\u001b[0m\u001b[0;34m)\u001b[0m\u001b[0;34m}\u001b[0m\u001b[0;34m,\u001b[0m\u001b[0;34m\u001b[0m\u001b[0;34m\u001b[0m\u001b[0m\n\u001b[0;32m--> 426\u001b[0;31m         \u001b[0mOutput\u001b[0m\u001b[0;34m.\u001b[0m\u001b[0mSTRING\u001b[0m\u001b[0;34m:\u001b[0m \u001b[0;32mlambda\u001b[0m\u001b[0;34m:\u001b[0m \u001b[0mrun_and_get_output\u001b[0m\u001b[0;34m(\u001b[0m\u001b[0;34m*\u001b[0m\u001b[0margs\u001b[0m\u001b[0;34m)\u001b[0m\u001b[0;34m,\u001b[0m\u001b[0;34m\u001b[0m\u001b[0;34m\u001b[0m\u001b[0m\n\u001b[0m\u001b[1;32m    427\u001b[0m     }[output_type]()\n\u001b[1;32m    428\u001b[0m \u001b[0;34m\u001b[0m\u001b[0m\n",
      "\u001b[0;32m/Library/Frameworks/Python.framework/Versions/3.10/lib/python3.10/site-packages/pytesseract/pytesseract.py\u001b[0m in \u001b[0;36mrun_and_get_output\u001b[0;34m(image, extension, lang, config, nice, timeout, return_bytes)\u001b[0m\n\u001b[1;32m    286\u001b[0m         }\n\u001b[1;32m    287\u001b[0m \u001b[0;34m\u001b[0m\u001b[0m\n\u001b[0;32m--> 288\u001b[0;31m         \u001b[0mrun_tesseract\u001b[0m\u001b[0;34m(\u001b[0m\u001b[0;34m**\u001b[0m\u001b[0mkwargs\u001b[0m\u001b[0;34m)\u001b[0m\u001b[0;34m\u001b[0m\u001b[0;34m\u001b[0m\u001b[0m\n\u001b[0m\u001b[1;32m    289\u001b[0m         \u001b[0mfilename\u001b[0m \u001b[0;34m=\u001b[0m \u001b[0;34mf\"{kwargs['output_filename_base']}{extsep}{extension}\"\u001b[0m\u001b[0;34m\u001b[0m\u001b[0;34m\u001b[0m\u001b[0m\n\u001b[1;32m    290\u001b[0m         \u001b[0;32mwith\u001b[0m \u001b[0mopen\u001b[0m\u001b[0;34m(\u001b[0m\u001b[0mfilename\u001b[0m\u001b[0;34m,\u001b[0m \u001b[0;34m'rb'\u001b[0m\u001b[0;34m)\u001b[0m \u001b[0;32mas\u001b[0m \u001b[0moutput_file\u001b[0m\u001b[0;34m:\u001b[0m\u001b[0;34m\u001b[0m\u001b[0;34m\u001b[0m\u001b[0m\n",
      "\u001b[0;32m/Library/Frameworks/Python.framework/Versions/3.10/lib/python3.10/site-packages/pytesseract/pytesseract.py\u001b[0m in \u001b[0;36mrun_tesseract\u001b[0;34m(input_filename, output_filename_base, extension, lang, config, nice, timeout)\u001b[0m\n\u001b[1;32m    260\u001b[0m             \u001b[0;32mraise\u001b[0m \u001b[0mTesseractNotFoundError\u001b[0m\u001b[0;34m(\u001b[0m\u001b[0;34m)\u001b[0m\u001b[0;34m\u001b[0m\u001b[0;34m\u001b[0m\u001b[0m\n\u001b[1;32m    261\u001b[0m \u001b[0;34m\u001b[0m\u001b[0m\n\u001b[0;32m--> 262\u001b[0;31m     \u001b[0;32mwith\u001b[0m \u001b[0mtimeout_manager\u001b[0m\u001b[0;34m(\u001b[0m\u001b[0mproc\u001b[0m\u001b[0;34m,\u001b[0m \u001b[0mtimeout\u001b[0m\u001b[0;34m)\u001b[0m \u001b[0;32mas\u001b[0m \u001b[0merror_string\u001b[0m\u001b[0;34m:\u001b[0m\u001b[0;34m\u001b[0m\u001b[0;34m\u001b[0m\u001b[0m\n\u001b[0m\u001b[1;32m    263\u001b[0m         \u001b[0;32mif\u001b[0m \u001b[0mproc\u001b[0m\u001b[0;34m.\u001b[0m\u001b[0mreturncode\u001b[0m\u001b[0;34m:\u001b[0m\u001b[0;34m\u001b[0m\u001b[0;34m\u001b[0m\u001b[0m\n\u001b[1;32m    264\u001b[0m             \u001b[0;32mraise\u001b[0m \u001b[0mTesseractError\u001b[0m\u001b[0;34m(\u001b[0m\u001b[0mproc\u001b[0m\u001b[0;34m.\u001b[0m\u001b[0mreturncode\u001b[0m\u001b[0;34m,\u001b[0m \u001b[0mget_errors\u001b[0m\u001b[0;34m(\u001b[0m\u001b[0merror_string\u001b[0m\u001b[0;34m)\u001b[0m\u001b[0;34m)\u001b[0m\u001b[0;34m\u001b[0m\u001b[0;34m\u001b[0m\u001b[0m\n",
      "\u001b[0;32m/Library/Frameworks/Python.framework/Versions/3.10/lib/python3.10/contextlib.py\u001b[0m in \u001b[0;36m__enter__\u001b[0;34m(self)\u001b[0m\n\u001b[1;32m    133\u001b[0m         \u001b[0;32mdel\u001b[0m \u001b[0mself\u001b[0m\u001b[0;34m.\u001b[0m\u001b[0margs\u001b[0m\u001b[0;34m,\u001b[0m \u001b[0mself\u001b[0m\u001b[0;34m.\u001b[0m\u001b[0mkwds\u001b[0m\u001b[0;34m,\u001b[0m \u001b[0mself\u001b[0m\u001b[0;34m.\u001b[0m\u001b[0mfunc\u001b[0m\u001b[0;34m\u001b[0m\u001b[0;34m\u001b[0m\u001b[0m\n\u001b[1;32m    134\u001b[0m         \u001b[0;32mtry\u001b[0m\u001b[0;34m:\u001b[0m\u001b[0;34m\u001b[0m\u001b[0;34m\u001b[0m\u001b[0m\n\u001b[0;32m--> 135\u001b[0;31m             \u001b[0;32mreturn\u001b[0m \u001b[0mnext\u001b[0m\u001b[0;34m(\u001b[0m\u001b[0mself\u001b[0m\u001b[0;34m.\u001b[0m\u001b[0mgen\u001b[0m\u001b[0;34m)\u001b[0m\u001b[0;34m\u001b[0m\u001b[0;34m\u001b[0m\u001b[0m\n\u001b[0m\u001b[1;32m    136\u001b[0m         \u001b[0;32mexcept\u001b[0m \u001b[0mStopIteration\u001b[0m\u001b[0;34m:\u001b[0m\u001b[0;34m\u001b[0m\u001b[0;34m\u001b[0m\u001b[0m\n\u001b[1;32m    137\u001b[0m             \u001b[0;32mraise\u001b[0m \u001b[0mRuntimeError\u001b[0m\u001b[0;34m(\u001b[0m\u001b[0;34m\"generator didn't yield\"\u001b[0m\u001b[0;34m)\u001b[0m \u001b[0;32mfrom\u001b[0m \u001b[0;32mNone\u001b[0m\u001b[0;34m\u001b[0m\u001b[0;34m\u001b[0m\u001b[0m\n",
      "\u001b[0;32m/Library/Frameworks/Python.framework/Versions/3.10/lib/python3.10/site-packages/pytesseract/pytesseract.py\u001b[0m in \u001b[0;36mtimeout_manager\u001b[0;34m(proc, seconds)\u001b[0m\n\u001b[1;32m    125\u001b[0m     \u001b[0;32mtry\u001b[0m\u001b[0;34m:\u001b[0m\u001b[0;34m\u001b[0m\u001b[0;34m\u001b[0m\u001b[0m\n\u001b[1;32m    126\u001b[0m         \u001b[0;32mif\u001b[0m \u001b[0;32mnot\u001b[0m \u001b[0mseconds\u001b[0m\u001b[0;34m:\u001b[0m\u001b[0;34m\u001b[0m\u001b[0;34m\u001b[0m\u001b[0m\n\u001b[0;32m--> 127\u001b[0;31m             \u001b[0;32myield\u001b[0m \u001b[0mproc\u001b[0m\u001b[0;34m.\u001b[0m\u001b[0mcommunicate\u001b[0m\u001b[0;34m(\u001b[0m\u001b[0;34m)\u001b[0m\u001b[0;34m[\u001b[0m\u001b[0;36m1\u001b[0m\u001b[0;34m]\u001b[0m\u001b[0;34m\u001b[0m\u001b[0;34m\u001b[0m\u001b[0m\n\u001b[0m\u001b[1;32m    128\u001b[0m             \u001b[0;32mreturn\u001b[0m\u001b[0;34m\u001b[0m\u001b[0;34m\u001b[0m\u001b[0m\n\u001b[1;32m    129\u001b[0m \u001b[0;34m\u001b[0m\u001b[0m\n",
      "\u001b[0;32m/Library/Frameworks/Python.framework/Versions/3.10/lib/python3.10/subprocess.py\u001b[0m in \u001b[0;36mcommunicate\u001b[0;34m(self, input, timeout)\u001b[0m\n\u001b[1;32m   1150\u001b[0m \u001b[0;34m\u001b[0m\u001b[0m\n\u001b[1;32m   1151\u001b[0m             \u001b[0;32mtry\u001b[0m\u001b[0;34m:\u001b[0m\u001b[0;34m\u001b[0m\u001b[0;34m\u001b[0m\u001b[0m\n\u001b[0;32m-> 1152\u001b[0;31m                 \u001b[0mstdout\u001b[0m\u001b[0;34m,\u001b[0m \u001b[0mstderr\u001b[0m \u001b[0;34m=\u001b[0m \u001b[0mself\u001b[0m\u001b[0;34m.\u001b[0m\u001b[0m_communicate\u001b[0m\u001b[0;34m(\u001b[0m\u001b[0minput\u001b[0m\u001b[0;34m,\u001b[0m \u001b[0mendtime\u001b[0m\u001b[0;34m,\u001b[0m \u001b[0mtimeout\u001b[0m\u001b[0;34m)\u001b[0m\u001b[0;34m\u001b[0m\u001b[0;34m\u001b[0m\u001b[0m\n\u001b[0m\u001b[1;32m   1153\u001b[0m             \u001b[0;32mexcept\u001b[0m \u001b[0mKeyboardInterrupt\u001b[0m\u001b[0;34m:\u001b[0m\u001b[0;34m\u001b[0m\u001b[0;34m\u001b[0m\u001b[0m\n\u001b[1;32m   1154\u001b[0m                 \u001b[0;31m# https://bugs.python.org/issue25942\u001b[0m\u001b[0;34m\u001b[0m\u001b[0;34m\u001b[0m\u001b[0m\n",
      "\u001b[0;32m/Library/Frameworks/Python.framework/Versions/3.10/lib/python3.10/subprocess.py\u001b[0m in \u001b[0;36m_communicate\u001b[0;34m(self, input, endtime, orig_timeout)\u001b[0m\n\u001b[1;32m   2001\u001b[0m                             'failed to raise TimeoutExpired.')\n\u001b[1;32m   2002\u001b[0m \u001b[0;34m\u001b[0m\u001b[0m\n\u001b[0;32m-> 2003\u001b[0;31m                     \u001b[0mready\u001b[0m \u001b[0;34m=\u001b[0m \u001b[0mselector\u001b[0m\u001b[0;34m.\u001b[0m\u001b[0mselect\u001b[0m\u001b[0;34m(\u001b[0m\u001b[0mtimeout\u001b[0m\u001b[0;34m)\u001b[0m\u001b[0;34m\u001b[0m\u001b[0;34m\u001b[0m\u001b[0m\n\u001b[0m\u001b[1;32m   2004\u001b[0m                     \u001b[0mself\u001b[0m\u001b[0;34m.\u001b[0m\u001b[0m_check_timeout\u001b[0m\u001b[0;34m(\u001b[0m\u001b[0mendtime\u001b[0m\u001b[0;34m,\u001b[0m \u001b[0morig_timeout\u001b[0m\u001b[0;34m,\u001b[0m \u001b[0mstdout\u001b[0m\u001b[0;34m,\u001b[0m \u001b[0mstderr\u001b[0m\u001b[0;34m)\u001b[0m\u001b[0;34m\u001b[0m\u001b[0;34m\u001b[0m\u001b[0m\n\u001b[1;32m   2005\u001b[0m \u001b[0;34m\u001b[0m\u001b[0m\n",
      "\u001b[0;32m/Library/Frameworks/Python.framework/Versions/3.10/lib/python3.10/selectors.py\u001b[0m in \u001b[0;36mselect\u001b[0;34m(self, timeout)\u001b[0m\n\u001b[1;32m    414\u001b[0m         \u001b[0mready\u001b[0m \u001b[0;34m=\u001b[0m \u001b[0;34m[\u001b[0m\u001b[0;34m]\u001b[0m\u001b[0;34m\u001b[0m\u001b[0;34m\u001b[0m\u001b[0m\n\u001b[1;32m    415\u001b[0m         \u001b[0;32mtry\u001b[0m\u001b[0;34m:\u001b[0m\u001b[0;34m\u001b[0m\u001b[0;34m\u001b[0m\u001b[0m\n\u001b[0;32m--> 416\u001b[0;31m             \u001b[0mfd_event_list\u001b[0m \u001b[0;34m=\u001b[0m \u001b[0mself\u001b[0m\u001b[0;34m.\u001b[0m\u001b[0m_selector\u001b[0m\u001b[0;34m.\u001b[0m\u001b[0mpoll\u001b[0m\u001b[0;34m(\u001b[0m\u001b[0mtimeout\u001b[0m\u001b[0;34m)\u001b[0m\u001b[0;34m\u001b[0m\u001b[0;34m\u001b[0m\u001b[0m\n\u001b[0m\u001b[1;32m    417\u001b[0m         \u001b[0;32mexcept\u001b[0m \u001b[0mInterruptedError\u001b[0m\u001b[0;34m:\u001b[0m\u001b[0;34m\u001b[0m\u001b[0;34m\u001b[0m\u001b[0m\n\u001b[1;32m    418\u001b[0m             \u001b[0;32mreturn\u001b[0m \u001b[0mready\u001b[0m\u001b[0;34m\u001b[0m\u001b[0;34m\u001b[0m\u001b[0m\n",
      "\u001b[0;31mKeyboardInterrupt\u001b[0m: "
     ]
    }
   ],
   "source": [
    "for index, row in tqdm(df_ocr.iterrows(), total=len(df_ocr)):\n",
    "    image_path = os.path.join(image_dir, row['image_name'])\n",
    "    if os.path.isdir(image_path) and image_path.startswith(\".\"):\n",
    "        continue \n",
    "    \n",
    "    image = Image.open(image_path)\n",
    "    \n",
    "    # get image dimensions\n",
    "    width, height = image.size\n",
    "    \n",
    "    # define the coordinates for cropping\n",
    "    left = 0\n",
    "    upper = 0\n",
    "    right = width\n",
    "    lower = int(height * 17 / 18)  # keep only the bottom 1/3 of the image\n",
    "    \n",
    "    # crop the image\n",
    "    cropped_image = image.crop((left, lower, right, height))\n",
    "    \n",
    "    text = pytesseract.image_to_string(cropped_image, config='--psm 3')\n",
    "\n",
    "    '''\n",
    "    now let's save the results only if the given column is empty\n",
    "    save all temperatures 16874\n",
    "    save some date times 103\n",
    "    save some cameras 4452\n",
    "    '''\n",
    "\n",
    "    data = {}\n",
    "    \n",
    "    # saving the camera conditionally\n",
    "    if pd.isnull(row[\"camera\"]):\n",
    "        cam_pattern = r'\\bCA\\S*'\n",
    "        cam_matches = re.findall(cam_pattern, text)\n",
    "        data[\"camera\"] = cam_matches[0] if cam_matches else None\n",
    "\n",
    "    # saving the datetime conditionally\n",
    "    if pd.isnull(row[\"date_time\"]):\n",
    "        date_pattern = r'\\b\\d{4}[-/]\\d{2}[-/]\\d{2}\\b|\\b\\d{2}[-/]\\d{2}[-/]\\d{4}\\b'    \n",
    "        time_pattern = r'\\b\\d{1,2}:\\d{2}:\\d{2}\\b'\n",
    "        date_matches = re.findall(date_pattern, text)\n",
    "        time_matches = re.findall(time_pattern, text)\n",
    "\n",
    "        # preprocessing the date\n",
    "        if date_matches:\n",
    "            parsed_date = parse_date(date_matches[0])\n",
    "            if parsed_date is not None:\n",
    "                formatted_date = parsed_date.strftime(\"%Y-%m-%d\")\n",
    "                data[\"date\"] = formatted_date\n",
    "        \n",
    "        data[\"time\"] = time_matches[0] if time_matches else None\n",
    "   \n",
    "        if time_matches and formatted_date:\n",
    "            row[\"datetime\"] = formatted_date + \" \" + time_matches[0] \n",
    "    \n",
    "    # saving the temp always\n",
    "    celsius_pattern = r'\\b\\d+\\s*[°]\\s*C\\b'\n",
    "    celsius_matches = re.findall(celsius_pattern, text)\n",
    "    data[\"temp\"] = celsius_matches[0] if celsius_matches else None\n",
    "\n",
    "    df_ocr = pd.concat([df_ocr, pd.DataFrame.from_records([data])], ignore_index=True)"
   ]
  },
  {
   "cell_type": "markdown",
   "id": "ee90e6d3",
   "metadata": {},
   "source": [
    "Once the process is finished let's save the datasaet and process it in another notebook in order to manage the results safely "
   ]
  },
  {
   "cell_type": "code",
   "execution_count": null,
   "id": "d9d70c85",
   "metadata": {},
   "outputs": [],
   "source": [
    "csv_path = '../datasets/ocr.csv'\n",
    "df_ocr.to_csv(csv_path)"
   ]
  }
 ],
 "metadata": {
  "kernelspec": {
   "display_name": "Python 3 (ipykernel)",
   "language": "python",
   "name": "python3"
  },
  "language_info": {
   "codemirror_mode": {
    "name": "ipython",
    "version": 3
   },
   "file_extension": ".py",
   "mimetype": "text/x-python",
   "name": "python",
   "nbconvert_exporter": "python",
   "pygments_lexer": "ipython3",
   "version": "3.10.7"
  }
 },
 "nbformat": 4,
 "nbformat_minor": 5
}
