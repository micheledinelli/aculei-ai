{
 "cells": [
  {
   "cell_type": "markdown",
   "id": "e7a72002-6ef3-46b7-9ea4-5e854f01d8b4",
   "metadata": {},
   "source": [
    "### OCR"
   ]
  },
  {
   "cell_type": "code",
   "execution_count": 35,
   "id": "bbcabe09-e44c-49ce-895f-929272dc1a76",
   "metadata": {},
   "outputs": [],
   "source": [
    "import pandas as pd\n",
    "import numpy as np\n",
    "from datetime import datetime\n",
    "\n",
    "import os\n",
    "\n",
    "import pytesseract\n",
    "import PIL.Image\n",
    "if not hasattr(PIL.Image, 'Resampling'):\n",
    "    PIL.Image.Resampling = PIL.Image\n",
    "from PIL import Image\n",
    "from tqdm import tqdm\n",
    "import re"
   ]
  },
  {
   "cell_type": "code",
   "execution_count": 36,
   "id": "fa87d6a3-f0c5-4f29-9ba8-77e237fb1486",
   "metadata": {},
   "outputs": [],
   "source": [
    "# image directory\n",
    "image_dir = '../images/aculei-images/'"
   ]
  },
  {
   "cell_type": "code",
   "execution_count": 37,
   "id": "6dab3082-a48a-49a9-a91f-706380a655fd",
   "metadata": {},
   "outputs": [],
   "source": [
    "# reading the dataframe\n",
    "df = pd.read_csv('../datasets/metadata.csv', index_col=0)"
   ]
  },
  {
   "cell_type": "markdown",
   "id": "de4ae823",
   "metadata": {},
   "source": [
    "We want to fill the missing data which were not available through metadata using ocr techniques\n",
    "\n",
    "The missing data are:\n",
    "\n",
    "- some **cameras**\n",
    "- some **date(time)**\n",
    "- all **temperatures**\n",
    "\n",
    "So we have to filter the dataframe and try to fill in the missing data for the camera column and then we'll do the same thing for the temparature column (which is not present yet)\n"
   ]
  },
  {
   "cell_type": "code",
   "execution_count": 38,
   "id": "d3ee7dbf-73f4-4a3c-9e75-65bf0b2491ec",
   "metadata": {},
   "outputs": [
    {
     "data": {
      "text/html": [
       "<div>\n",
       "<style scoped>\n",
       "    .dataframe tbody tr th:only-of-type {\n",
       "        vertical-align: middle;\n",
       "    }\n",
       "\n",
       "    .dataframe tbody tr th {\n",
       "        vertical-align: top;\n",
       "    }\n",
       "\n",
       "    .dataframe thead th {\n",
       "        text-align: right;\n",
       "    }\n",
       "</style>\n",
       "<table border=\"1\" class=\"dataframe\">\n",
       "  <thead>\n",
       "    <tr style=\"text-align: right;\">\n",
       "      <th></th>\n",
       "      <th>hash</th>\n",
       "      <th>image_name</th>\n",
       "      <th>camera</th>\n",
       "      <th>date_time</th>\n",
       "      <th>date</th>\n",
       "      <th>time</th>\n",
       "      <th>moon</th>\n",
       "    </tr>\n",
       "  </thead>\n",
       "  <tbody>\n",
       "    <tr>\n",
       "      <th>0</th>\n",
       "      <td>00100018fdffffff</td>\n",
       "      <td>TF_ACULEI_8040_DSCF0129.jpg</td>\n",
       "      <td>CAM_1</td>\n",
       "      <td>2021-07-22 23:04:07</td>\n",
       "      <td>2021-07-22</td>\n",
       "      <td>23:04:07</td>\n",
       "      <td>Full Moon</td>\n",
       "    </tr>\n",
       "    <tr>\n",
       "      <th>1</th>\n",
       "      <td>000000b8fcfcffff</td>\n",
       "      <td>TF_ACULEI_900_DSCF0756.jpg</td>\n",
       "      <td>CAM_1</td>\n",
       "      <td>2021-05-27 22:01:44</td>\n",
       "      <td>2021-05-27</td>\n",
       "      <td>22:01:44</td>\n",
       "      <td>Full Moon</td>\n",
       "    </tr>\n",
       "    <tr>\n",
       "      <th>2</th>\n",
       "      <td>0000001000787f7f</td>\n",
       "      <td>TF_ACULEI_15294_DSCF0133.jpg</td>\n",
       "      <td>NaN</td>\n",
       "      <td>2023-03-30 20:35:58</td>\n",
       "      <td>2023-03-30</td>\n",
       "      <td>20:35:58</td>\n",
       "      <td>First Quarter</td>\n",
       "    </tr>\n",
       "    <tr>\n",
       "      <th>3</th>\n",
       "      <td>0000001e1e3cfe7f</td>\n",
       "      <td>TF_ACULEI_11374_DSCF0064.jpg</td>\n",
       "      <td>CAM_6</td>\n",
       "      <td>2022-06-09 21:29:59</td>\n",
       "      <td>2022-06-09</td>\n",
       "      <td>21:29:59</td>\n",
       "      <td>Waxing Gibbous</td>\n",
       "    </tr>\n",
       "    <tr>\n",
       "      <th>4</th>\n",
       "      <td>00080818fcfeffff</td>\n",
       "      <td>TF_ACULEI_4106_DSCF4336.jpg</td>\n",
       "      <td>CAM_1</td>\n",
       "      <td>2021-06-16 23:41:09</td>\n",
       "      <td>2021-06-16</td>\n",
       "      <td>23:41:09</td>\n",
       "      <td>First Quarter</td>\n",
       "    </tr>\n",
       "  </tbody>\n",
       "</table>\n",
       "</div>"
      ],
      "text/plain": [
       "               hash                    image_name camera            date_time  \\\n",
       "0  00100018fdffffff   TF_ACULEI_8040_DSCF0129.jpg  CAM_1  2021-07-22 23:04:07   \n",
       "1  000000b8fcfcffff    TF_ACULEI_900_DSCF0756.jpg  CAM_1  2021-05-27 22:01:44   \n",
       "2  0000001000787f7f  TF_ACULEI_15294_DSCF0133.jpg    NaN  2023-03-30 20:35:58   \n",
       "3  0000001e1e3cfe7f  TF_ACULEI_11374_DSCF0064.jpg  CAM_6  2022-06-09 21:29:59   \n",
       "4  00080818fcfeffff   TF_ACULEI_4106_DSCF4336.jpg  CAM_1  2021-06-16 23:41:09   \n",
       "\n",
       "         date      time            moon  \n",
       "0  2021-07-22  23:04:07       Full Moon  \n",
       "1  2021-05-27  22:01:44       Full Moon  \n",
       "2  2023-03-30  20:35:58   First Quarter  \n",
       "3  2022-06-09  21:29:59  Waxing Gibbous  \n",
       "4  2021-06-16  23:41:09   First Quarter  "
      ]
     },
     "execution_count": 38,
     "metadata": {},
     "output_type": "execute_result"
    }
   ],
   "source": [
    "df.head()"
   ]
  },
  {
   "cell_type": "code",
   "execution_count": 39,
   "id": "be55f02e",
   "metadata": {},
   "outputs": [
    {
     "data": {
      "text/plain": [
       "(16874, 7)"
      ]
     },
     "execution_count": 39,
     "metadata": {},
     "output_type": "execute_result"
    }
   ],
   "source": [
    "df.shape"
   ]
  },
  {
   "cell_type": "code",
   "execution_count": 40,
   "id": "2da0cb0f",
   "metadata": {},
   "outputs": [
    {
     "data": {
      "text/plain": [
       "hash             0\n",
       "image_name       0\n",
       "camera        4452\n",
       "date_time      103\n",
       "date           103\n",
       "time           103\n",
       "moon           103\n",
       "dtype: int64"
      ]
     },
     "execution_count": 40,
     "metadata": {},
     "output_type": "execute_result"
    }
   ],
   "source": [
    "df.isnull().sum()"
   ]
  },
  {
   "cell_type": "markdown",
   "id": "3c45aa4a",
   "metadata": {},
   "source": [
    "From the output above we can see we are missing\n",
    "\n",
    "- 4452 cameras\n",
    "- 103 dates\n",
    "- 16874 temperatures\n",
    "\n",
    "We'll split the jobs to keep it simple"
   ]
  },
  {
   "cell_type": "markdown",
   "id": "f2b307e6",
   "metadata": {},
   "source": [
    "### Cameras"
   ]
  },
  {
   "cell_type": "markdown",
   "id": "583c375d",
   "metadata": {},
   "source": [
    "We'll filter the dataset keeping only the empty camera rows (we expect 4452 rows)"
   ]
  },
  {
   "cell_type": "code",
   "execution_count": 41,
   "id": "01538664",
   "metadata": {},
   "outputs": [],
   "source": [
    "df_ocr = df.copy()"
   ]
  },
  {
   "cell_type": "code",
   "execution_count": 42,
   "id": "3d6b5f24",
   "metadata": {},
   "outputs": [
    {
     "data": {
      "text/plain": [
       "(16874, 7)"
      ]
     },
     "execution_count": 42,
     "metadata": {},
     "output_type": "execute_result"
    }
   ],
   "source": [
    "df_ocr.shape"
   ]
  },
  {
   "cell_type": "code",
   "execution_count": 43,
   "id": "3481730a",
   "metadata": {},
   "outputs": [
    {
     "data": {
      "text/html": [
       "<div>\n",
       "<style scoped>\n",
       "    .dataframe tbody tr th:only-of-type {\n",
       "        vertical-align: middle;\n",
       "    }\n",
       "\n",
       "    .dataframe tbody tr th {\n",
       "        vertical-align: top;\n",
       "    }\n",
       "\n",
       "    .dataframe thead th {\n",
       "        text-align: right;\n",
       "    }\n",
       "</style>\n",
       "<table border=\"1\" class=\"dataframe\">\n",
       "  <thead>\n",
       "    <tr style=\"text-align: right;\">\n",
       "      <th></th>\n",
       "      <th>hash</th>\n",
       "      <th>image_name</th>\n",
       "      <th>camera</th>\n",
       "      <th>date_time</th>\n",
       "      <th>date</th>\n",
       "      <th>time</th>\n",
       "      <th>moon</th>\n",
       "    </tr>\n",
       "  </thead>\n",
       "  <tbody>\n",
       "    <tr>\n",
       "      <th>7128</th>\n",
       "      <td>00000030f8fcffff</td>\n",
       "      <td>TF_ACULEI_418_DSCF0240.jpg</td>\n",
       "      <td>CAM_1</td>\n",
       "      <td>2021-05-25 02:39:58</td>\n",
       "      <td>2021-05-25</td>\n",
       "      <td>02:39:58</td>\n",
       "      <td>Full Moon</td>\n",
       "    </tr>\n",
       "    <tr>\n",
       "      <th>4812</th>\n",
       "      <td>00080878fcfefefe</td>\n",
       "      <td>TF_ACULEI_3894_DSCF4112.jpg</td>\n",
       "      <td>CAM_1</td>\n",
       "      <td>2021-06-16 00:21:45</td>\n",
       "      <td>2021-06-16</td>\n",
       "      <td>00:21:45</td>\n",
       "      <td>First Quarter</td>\n",
       "    </tr>\n",
       "    <tr>\n",
       "      <th>910</th>\n",
       "      <td>1e1e3e3e3e1c0c08</td>\n",
       "      <td>TF_ACULEI_8998_DSCF0046.jpg</td>\n",
       "      <td>CAM_2</td>\n",
       "      <td>2021-08-07 23:49:38</td>\n",
       "      <td>2021-08-07</td>\n",
       "      <td>23:49:38</td>\n",
       "      <td>New Moon</td>\n",
       "    </tr>\n",
       "    <tr>\n",
       "      <th>16864</th>\n",
       "      <td>0008183c3e3e3e3e</td>\n",
       "      <td>TF_ACULEI_13476_DSCF0247.jpg</td>\n",
       "      <td>NaN</td>\n",
       "      <td>2023-01-16 20:18:02</td>\n",
       "      <td>2023-01-16</td>\n",
       "      <td>20:18:02</td>\n",
       "      <td>Waning Crescent</td>\n",
       "    </tr>\n",
       "    <tr>\n",
       "      <th>784</th>\n",
       "      <td>000000001038387e</td>\n",
       "      <td>TF_ACULEI_9499_IMAG0158.jpg</td>\n",
       "      <td>CAM_3</td>\n",
       "      <td>2021-10-11 05:01:47</td>\n",
       "      <td>2021-10-11</td>\n",
       "      <td>05:01:47</td>\n",
       "      <td>Waxing Crescent</td>\n",
       "    </tr>\n",
       "  </tbody>\n",
       "</table>\n",
       "</div>"
      ],
      "text/plain": [
       "                   hash                    image_name camera  \\\n",
       "7128   00000030f8fcffff    TF_ACULEI_418_DSCF0240.jpg  CAM_1   \n",
       "4812   00080878fcfefefe   TF_ACULEI_3894_DSCF4112.jpg  CAM_1   \n",
       "910    1e1e3e3e3e1c0c08   TF_ACULEI_8998_DSCF0046.jpg  CAM_2   \n",
       "16864  0008183c3e3e3e3e  TF_ACULEI_13476_DSCF0247.jpg    NaN   \n",
       "784    000000001038387e   TF_ACULEI_9499_IMAG0158.jpg  CAM_3   \n",
       "\n",
       "                 date_time        date      time             moon  \n",
       "7128   2021-05-25 02:39:58  2021-05-25  02:39:58        Full Moon  \n",
       "4812   2021-06-16 00:21:45  2021-06-16  00:21:45    First Quarter  \n",
       "910    2021-08-07 23:49:38  2021-08-07  23:49:38         New Moon  \n",
       "16864  2023-01-16 20:18:02  2023-01-16  20:18:02  Waning Crescent  \n",
       "784    2021-10-11 05:01:47  2021-10-11  05:01:47  Waxing Crescent  "
      ]
     },
     "execution_count": 43,
     "metadata": {},
     "output_type": "execute_result"
    }
   ],
   "source": [
    "df_ocr.sample(5)"
   ]
  },
  {
   "cell_type": "markdown",
   "id": "f3513c54",
   "metadata": {},
   "source": [
    "Using [pytesseract](https://pypi.org/project/pytesseract/) we can extract text from the images. We decided to crop the images to achieve better results.\n",
    "The output string from pytesseract is not tokenized or anything so we used RegExp to extract relevant information from the whole string\n"
   ]
  },
  {
   "cell_type": "markdown",
   "id": "23c63441",
   "metadata": {},
   "source": [
    "We had to provide different time formats translations because the metadata about date are diffent from image to image"
   ]
  },
  {
   "cell_type": "code",
   "execution_count": 44,
   "id": "2dd2e2aa",
   "metadata": {},
   "outputs": [],
   "source": [
    "def parse_date(date_string):\n",
    "    for format in [\"%Y/%m/%d\", \"%d/%m/%Y\"]:\n",
    "        try:\n",
    "            return datetime.strptime(date_string, format)\n",
    "        except ValueError:\n",
    "            pass\n",
    "    return None"
   ]
  },
  {
   "cell_type": "code",
   "execution_count": 45,
   "id": "6e5bf1bb",
   "metadata": {},
   "outputs": [
    {
     "name": "stderr",
     "output_type": "stream",
     "text": [
      "100%|██████████| 16874/16874 [1:49:09<00:00,  2.58it/s]  \n"
     ]
    }
   ],
   "source": [
    "for index, row in tqdm(df_ocr.iterrows(), total=len(df_ocr)):\n",
    "    image_path = os.path.join(image_dir, row['image_name'])\n",
    "    if os.path.isdir(image_path) and image_path.startswith(\".\"):\n",
    "        continue \n",
    "    \n",
    "    image = Image.open(image_path)\n",
    "    \n",
    "    # get image dimensions\n",
    "    width, height = image.size\n",
    "    \n",
    "    # define the coordinates for cropping\n",
    "    left = 0\n",
    "    upper = 0\n",
    "    right = width\n",
    "    lower = int(height * 17 / 18)  # keep only the bottom 1/3 of the image\n",
    "    \n",
    "    # crop the image\n",
    "    cropped_image = image.crop((left, lower, right, height))\n",
    "    \n",
    "    text = pytesseract.image_to_string(cropped_image, config='--psm 3')\n",
    "\n",
    "    '''\n",
    "    now let's save the results only if the given column is empty\n",
    "    save all temperatures 16874\n",
    "    save some date times 103\n",
    "    save some cameras 4452\n",
    "    '''\n",
    "    \n",
    "    # saving the camera conditionally\n",
    "    if pd.isnull(row[\"camera\"]):\n",
    "        cam_pattern = r'\\bCA\\S*'\n",
    "        cam_matches = re.findall(cam_pattern, text)\n",
    "        row[\"camera\"] = cam_matches[0] if cam_matches else None\n",
    "\n",
    "    # saving the datetime conditionally\n",
    "    if pd.isnull(row[\"date_time\"]):\n",
    "        date_pattern = r'\\b\\d{4}[-/]\\d{2}[-/]\\d{2}\\b|\\b\\d{2}[-/]\\d{2}[-/]\\d{4}\\b'    \n",
    "        time_pattern = r'\\b\\d{1,2}:\\d{2}:\\d{2}\\b'\n",
    "        date_matches = re.findall(date_pattern, text)\n",
    "        time_matches = re.findall(time_pattern, text)\n",
    "\n",
    "        # preprocessing the date\n",
    "        if date_matches:\n",
    "            parsed_date = parse_date(date_matches[0])\n",
    "            if parsed_date is not None:\n",
    "                formatted_date = parsed_date.strftime(\"%Y-%m-%d\")\n",
    "                row[\"date\"] = formatted_date\n",
    "        \n",
    "        row[\"time\"] = time_matches[0] if time_matches else None\n",
    "   \n",
    "        if time_matches and formatted_date:\n",
    "            row[\"date_time\"] = formatted_date + \" \" + time_matches[0] \n",
    "    \n",
    "    # saving the temp always\n",
    "    celsius_pattern = r'\\b\\d+\\s*[°]\\s*C\\b'\n",
    "    celsius_matches = re.findall(celsius_pattern, text)\n",
    "    df_ocr.loc[index, 'temp'] = celsius_matches[0] if celsius_matches else None"
   ]
  },
  {
   "cell_type": "markdown",
   "id": "ee90e6d3",
   "metadata": {},
   "source": [
    "Once the process is finished let's save the datasaet and process it in another notebook in order to manage the results safely "
   ]
  },
  {
   "cell_type": "code",
   "execution_count": 47,
   "id": "d9d70c85",
   "metadata": {},
   "outputs": [],
   "source": [
    "csv_path = '../datasets/ocr.csv'\n",
    "df_ocr.to_csv(csv_path)"
   ]
  }
 ],
 "metadata": {
  "kernelspec": {
   "display_name": "Python 3 (ipykernel)",
   "language": "python",
   "name": "python3"
  },
  "language_info": {
   "codemirror_mode": {
    "name": "ipython",
    "version": 3
   },
   "file_extension": ".py",
   "mimetype": "text/x-python",
   "name": "python",
   "nbconvert_exporter": "python",
   "pygments_lexer": "ipython3",
   "version": "3.11.6"
  }
 },
 "nbformat": 4,
 "nbformat_minor": 5
}
