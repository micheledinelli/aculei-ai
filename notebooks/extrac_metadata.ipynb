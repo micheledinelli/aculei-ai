{
 "cells": [
  {
   "cell_type": "markdown",
   "metadata": {},
   "source": [
    "### Extract metadata from images\n",
    "\n",
    "The first step is to extract as much data as we can from images metadata in order to have a dataset to start from. "
   ]
  },
  {
   "cell_type": "code",
   "execution_count": 10,
   "metadata": {},
   "outputs": [],
   "source": [
    "import os\n",
    "\n",
    "import numpy as np\n",
    "import pandas as pd\n",
    "\n",
    "import exiftool\n",
    "from tqdm import tqdm\n",
    "\n",
    "import imagehash\n",
    "from PIL import Image"
   ]
  },
  {
   "cell_type": "code",
   "execution_count": 11,
   "metadata": {},
   "outputs": [],
   "source": [
    "image_folder_path = '../images/aculei-images/'\n",
    "image_names = np.array([f for f in os.listdir(image_folder_path) if f.lower().endswith('.jpg')])"
   ]
  },
  {
   "cell_type": "code",
   "execution_count": 12,
   "metadata": {},
   "outputs": [
    {
     "name": "stderr",
     "output_type": "stream",
     "text": [
      "Extracting metadata: 100%|██████████| 16874/16874 [21:14<00:00, 13.24it/s]\n"
     ]
    }
   ],
   "source": [
    "# defining tags we are interested in\n",
    "tags_for_cam = [\"Keywords\", \"Subject\", \"WeightedFlatSubject\"]\n",
    "tags_for_datetime = [\"CreateDate\", \"DateCreated\"]\n",
    "\n",
    "tags = tags_for_cam + tags_for_datetime\n",
    "\n",
    "df = pd.DataFrame()\n",
    "for image in tqdm(image_names, desc=\"Extracting metadata\"):\n",
    "    file_path = os.path.join(image_folder_path, image)\n",
    "    # image_hash = imagehash.average_hash(Image.open(file_path))\n",
    "    \n",
    "    with exiftool.ExifToolHelper() as et:\n",
    "        try:\n",
    "            metadata = {}\n",
    "            \n",
    "            # caluclating the hash to have a unique identifier\n",
    "            # metadata['hash'] = image_hash\n",
    "            metadata['image_name'] = image\n",
    "            for d in et.get_tags([file_path], tags=tags):\n",
    "                for k, v in d.items():\n",
    "                    metadata[k] = v\n",
    "            df = pd.concat([df, pd.DataFrame.from_records([metadata])], ignore_index=True)\n",
    "        except Exception as e:\n",
    "            print(e)"
   ]
  },
  {
   "cell_type": "code",
   "execution_count": 13,
   "metadata": {},
   "outputs": [
    {
     "data": {
      "text/plain": [
       "(16874, 9)"
      ]
     },
     "execution_count": 13,
     "metadata": {},
     "output_type": "execute_result"
    }
   ],
   "source": [
    "df.shape"
   ]
  },
  {
   "cell_type": "code",
   "execution_count": 14,
   "metadata": {},
   "outputs": [
    {
     "data": {
      "text/plain": [
       "image_name                    0\n",
       "SourceFile                    0\n",
       "IPTC:Keywords              4451\n",
       "XMP:Subject                4451\n",
       "XMP:WeightedFlatSubject    4451\n",
       "EXIF:CreateDate             103\n",
       "XMP:CreateDate              103\n",
       "IPTC:DateCreated            103\n",
       "XMP:DateCreated             103\n",
       "dtype: int64"
      ]
     },
     "execution_count": 14,
     "metadata": {},
     "output_type": "execute_result"
    }
   ],
   "source": [
    "df.isnull().sum()"
   ]
  },
  {
   "cell_type": "code",
   "execution_count": 15,
   "metadata": {},
   "outputs": [],
   "source": [
    "# clean some columns\n",
    "df.drop(columns=['SourceFile', 'XMP:WeightedFlatSubject', 'IPTC:Keywords', 'EXIF:CreateDate', 'IPTC:DateCreated', 'XMP:DateCreated'], \n",
    "        inplace=True)"
   ]
  },
  {
   "cell_type": "code",
   "execution_count": 16,
   "metadata": {},
   "outputs": [],
   "source": [
    "df['date_time'] = pd.to_datetime(df['XMP:CreateDate'], format='%Y:%m:%d %H:%M:%S')\n",
    "\n",
    "# split into 'date' and 'time' columns\n",
    "df['date'] = df['date_time'].dt.date\n",
    "df['time'] = df['date_time'].dt.time\n",
    "\n",
    "# Drop the original 'DateTime' column has it is no longer needed\n",
    "df.drop(columns=['XMP:CreateDate'], inplace=True)"
   ]
  },
  {
   "cell_type": "code",
   "execution_count": 17,
   "metadata": {},
   "outputs": [],
   "source": [
    "# rename some columns\n",
    "df.rename(columns={\"XMP:Subject\": \"camera\"}, inplace=True)"
   ]
  },
  {
   "cell_type": "code",
   "execution_count": 21,
   "metadata": {},
   "outputs": [
    {
     "data": {
      "text/html": [
       "<div>\n",
       "<style scoped>\n",
       "    .dataframe tbody tr th:only-of-type {\n",
       "        vertical-align: middle;\n",
       "    }\n",
       "\n",
       "    .dataframe tbody tr th {\n",
       "        vertical-align: top;\n",
       "    }\n",
       "\n",
       "    .dataframe thead th {\n",
       "        text-align: right;\n",
       "    }\n",
       "</style>\n",
       "<table border=\"1\" class=\"dataframe\">\n",
       "  <thead>\n",
       "    <tr style=\"text-align: right;\">\n",
       "      <th></th>\n",
       "      <th>image_name</th>\n",
       "      <th>camera</th>\n",
       "      <th>date_time</th>\n",
       "      <th>date</th>\n",
       "      <th>time</th>\n",
       "    </tr>\n",
       "  </thead>\n",
       "  <tbody>\n",
       "    <tr>\n",
       "      <th>0</th>\n",
       "      <td>TF_ACULEI_8040_DSCF0129.jpg</td>\n",
       "      <td>CAM_1</td>\n",
       "      <td>2021-07-22 23:04:07</td>\n",
       "      <td>2021-07-22</td>\n",
       "      <td>23:04:07</td>\n",
       "    </tr>\n",
       "    <tr>\n",
       "      <th>1</th>\n",
       "      <td>TF_ACULEI_900_DSCF0756.jpg</td>\n",
       "      <td>CAM_1</td>\n",
       "      <td>2021-05-27 22:01:44</td>\n",
       "      <td>2021-05-27</td>\n",
       "      <td>22:01:44</td>\n",
       "    </tr>\n",
       "    <tr>\n",
       "      <th>2</th>\n",
       "      <td>TF_ACULEI_15294_DSCF0133.jpg</td>\n",
       "      <td>NaN</td>\n",
       "      <td>2023-03-30 20:35:58</td>\n",
       "      <td>2023-03-30</td>\n",
       "      <td>20:35:58</td>\n",
       "    </tr>\n",
       "    <tr>\n",
       "      <th>3</th>\n",
       "      <td>TF_ACULEI_11374_DSCF0064.jpg</td>\n",
       "      <td>CAM_6</td>\n",
       "      <td>2022-06-09 21:29:59</td>\n",
       "      <td>2022-06-09</td>\n",
       "      <td>21:29:59</td>\n",
       "    </tr>\n",
       "    <tr>\n",
       "      <th>4</th>\n",
       "      <td>TF_ACULEI_4106_DSCF4336.jpg</td>\n",
       "      <td>CAM_1</td>\n",
       "      <td>2021-06-16 23:41:09</td>\n",
       "      <td>2021-06-16</td>\n",
       "      <td>23:41:09</td>\n",
       "    </tr>\n",
       "    <tr>\n",
       "      <th>5</th>\n",
       "      <td>TF_ACULEI_1601_DSCF1490.jpg</td>\n",
       "      <td>CAM_1</td>\n",
       "      <td>2021-06-02 00:39:46</td>\n",
       "      <td>2021-06-02</td>\n",
       "      <td>00:39:46</td>\n",
       "    </tr>\n",
       "    <tr>\n",
       "      <th>6</th>\n",
       "      <td>TF_ACULEI_8326_DSCF0393.jpg</td>\n",
       "      <td>CAM_1</td>\n",
       "      <td>2021-07-24 23:20:01</td>\n",
       "      <td>2021-07-24</td>\n",
       "      <td>23:20:01</td>\n",
       "    </tr>\n",
       "    <tr>\n",
       "      <th>7</th>\n",
       "      <td>TF_ACULEI_16157_DSCF0165.jpg</td>\n",
       "      <td>NaN</td>\n",
       "      <td>2023-06-20 07:33:59</td>\n",
       "      <td>2023-06-20</td>\n",
       "      <td>07:33:59</td>\n",
       "    </tr>\n",
       "    <tr>\n",
       "      <th>8</th>\n",
       "      <td>TF_ACULEI_16077_DSCF0744.jpg</td>\n",
       "      <td>NaN</td>\n",
       "      <td>2023-06-09 04:27:57</td>\n",
       "      <td>2023-06-09</td>\n",
       "      <td>04:27:57</td>\n",
       "    </tr>\n",
       "    <tr>\n",
       "      <th>9</th>\n",
       "      <td>TF_ACULEI_2994_DSCF3044.jpg</td>\n",
       "      <td>CAM_1</td>\n",
       "      <td>2021-06-10 21:55:12</td>\n",
       "      <td>2021-06-10</td>\n",
       "      <td>21:55:12</td>\n",
       "    </tr>\n",
       "  </tbody>\n",
       "</table>\n",
       "</div>"
      ],
      "text/plain": [
       "                     image_name camera           date_time        date  \\\n",
       "0   TF_ACULEI_8040_DSCF0129.jpg  CAM_1 2021-07-22 23:04:07  2021-07-22   \n",
       "1    TF_ACULEI_900_DSCF0756.jpg  CAM_1 2021-05-27 22:01:44  2021-05-27   \n",
       "2  TF_ACULEI_15294_DSCF0133.jpg    NaN 2023-03-30 20:35:58  2023-03-30   \n",
       "3  TF_ACULEI_11374_DSCF0064.jpg  CAM_6 2022-06-09 21:29:59  2022-06-09   \n",
       "4   TF_ACULEI_4106_DSCF4336.jpg  CAM_1 2021-06-16 23:41:09  2021-06-16   \n",
       "5   TF_ACULEI_1601_DSCF1490.jpg  CAM_1 2021-06-02 00:39:46  2021-06-02   \n",
       "6   TF_ACULEI_8326_DSCF0393.jpg  CAM_1 2021-07-24 23:20:01  2021-07-24   \n",
       "7  TF_ACULEI_16157_DSCF0165.jpg    NaN 2023-06-20 07:33:59  2023-06-20   \n",
       "8  TF_ACULEI_16077_DSCF0744.jpg    NaN 2023-06-09 04:27:57  2023-06-09   \n",
       "9   TF_ACULEI_2994_DSCF3044.jpg  CAM_1 2021-06-10 21:55:12  2021-06-10   \n",
       "\n",
       "       time  \n",
       "0  23:04:07  \n",
       "1  22:01:44  \n",
       "2  20:35:58  \n",
       "3  21:29:59  \n",
       "4  23:41:09  \n",
       "5  00:39:46  \n",
       "6  23:20:01  \n",
       "7  07:33:59  \n",
       "8  04:27:57  \n",
       "9  21:55:12  "
      ]
     },
     "execution_count": 21,
     "metadata": {},
     "output_type": "execute_result"
    }
   ],
   "source": [
    "df.head(10)"
   ]
  },
  {
   "cell_type": "code",
   "execution_count": 96,
   "metadata": {},
   "outputs": [],
   "source": [
    "from moon_phase import phase\n",
    "\n",
    "# extract moon phase\n",
    "df['date_time'] = pd.to_datetime(df['date_time'])\n",
    "df['moon'] = df['date_time'].apply(lambda x: phase(str(x)) if not pd.isnull(x) else None)"
   ]
  },
  {
   "cell_type": "code",
   "execution_count": 116,
   "metadata": {},
   "outputs": [
    {
     "data": {
      "text/html": [
       "<div>\n",
       "<style scoped>\n",
       "    .dataframe tbody tr th:only-of-type {\n",
       "        vertical-align: middle;\n",
       "    }\n",
       "\n",
       "    .dataframe tbody tr th {\n",
       "        vertical-align: top;\n",
       "    }\n",
       "\n",
       "    .dataframe thead th {\n",
       "        text-align: right;\n",
       "    }\n",
       "</style>\n",
       "<table border=\"1\" class=\"dataframe\">\n",
       "  <thead>\n",
       "    <tr style=\"text-align: right;\">\n",
       "      <th></th>\n",
       "      <th>image_name</th>\n",
       "      <th>camera</th>\n",
       "      <th>date_time</th>\n",
       "      <th>date</th>\n",
       "      <th>time</th>\n",
       "      <th>moon</th>\n",
       "    </tr>\n",
       "  </thead>\n",
       "  <tbody>\n",
       "    <tr>\n",
       "      <th>11752</th>\n",
       "      <td>TF_ACULEI_1420_DSCF1324.jpg</td>\n",
       "      <td>CAM_1</td>\n",
       "      <td>2021-06-01 22:17:49</td>\n",
       "      <td>2021-06-01</td>\n",
       "      <td>22:17:49</td>\n",
       "      <td>Waning Crescent</td>\n",
       "    </tr>\n",
       "    <tr>\n",
       "      <th>16032</th>\n",
       "      <td>TF_ACULEI_3667_DSCF3885.jpg</td>\n",
       "      <td>CAM_1</td>\n",
       "      <td>2021-06-15 23:36:44</td>\n",
       "      <td>2021-06-15</td>\n",
       "      <td>23:36:44</td>\n",
       "      <td>Waxing Gibbous</td>\n",
       "    </tr>\n",
       "    <tr>\n",
       "      <th>3724</th>\n",
       "      <td>TF_ACULEI_3316_DSCF3425.jpg</td>\n",
       "      <td>CAM_1</td>\n",
       "      <td>2021-06-15 00:17:11</td>\n",
       "      <td>2021-06-15</td>\n",
       "      <td>00:17:11</td>\n",
       "      <td>Waxing Gibbous</td>\n",
       "    </tr>\n",
       "    <tr>\n",
       "      <th>11228</th>\n",
       "      <td>TF_ACULEI_13908_DSCF0214.jpg</td>\n",
       "      <td>NaN</td>\n",
       "      <td>NaT</td>\n",
       "      <td>NaT</td>\n",
       "      <td>NaT</td>\n",
       "      <td>None</td>\n",
       "    </tr>\n",
       "    <tr>\n",
       "      <th>7634</th>\n",
       "      <td>TF_ACULEI_6293_DSCF6636.jpg</td>\n",
       "      <td>CAM_1</td>\n",
       "      <td>2021-06-25 00:46:03</td>\n",
       "      <td>2021-06-25</td>\n",
       "      <td>00:46:03</td>\n",
       "      <td>Waning Crescent</td>\n",
       "    </tr>\n",
       "    <tr>\n",
       "      <th>12191</th>\n",
       "      <td>TF_ACULEI_9875_DSCF0289.jpg</td>\n",
       "      <td>CAM_1</td>\n",
       "      <td>2021-11-24 03:34:57</td>\n",
       "      <td>2021-11-24</td>\n",
       "      <td>03:34:57</td>\n",
       "      <td>Waning Crescent</td>\n",
       "    </tr>\n",
       "    <tr>\n",
       "      <th>13647</th>\n",
       "      <td>TF_ACULEI_7885_DSCF0183.jpg</td>\n",
       "      <td>CAM_1</td>\n",
       "      <td>2021-07-15 04:58:22</td>\n",
       "      <td>2021-07-15</td>\n",
       "      <td>04:58:22</td>\n",
       "      <td>Waxing Gibbous</td>\n",
       "    </tr>\n",
       "    <tr>\n",
       "      <th>3634</th>\n",
       "      <td>TF_ACULEI_14626_IMAG0299.jpg</td>\n",
       "      <td>NaN</td>\n",
       "      <td>2023-02-09 07:18:03</td>\n",
       "      <td>2023-02-09</td>\n",
       "      <td>07:18:03</td>\n",
       "      <td>Waning Crescent</td>\n",
       "    </tr>\n",
       "    <tr>\n",
       "      <th>12857</th>\n",
       "      <td>TF_ACULEI_16417_DSCF0108.jpg</td>\n",
       "      <td>NaN</td>\n",
       "      <td>2023-07-27 22:27:23</td>\n",
       "      <td>2023-07-27</td>\n",
       "      <td>22:27:23</td>\n",
       "      <td>Waning Crescent</td>\n",
       "    </tr>\n",
       "    <tr>\n",
       "      <th>4112</th>\n",
       "      <td>TF_ACULEI_15060_DSCF0079.jpg</td>\n",
       "      <td>NaN</td>\n",
       "      <td>2023-03-15 07:30:13</td>\n",
       "      <td>2023-03-15</td>\n",
       "      <td>07:30:13</td>\n",
       "      <td>Waning Crescent</td>\n",
       "    </tr>\n",
       "  </tbody>\n",
       "</table>\n",
       "</div>"
      ],
      "text/plain": [
       "                         image_name camera           date_time        date  \\\n",
       "11752   TF_ACULEI_1420_DSCF1324.jpg  CAM_1 2021-06-01 22:17:49  2021-06-01   \n",
       "16032   TF_ACULEI_3667_DSCF3885.jpg  CAM_1 2021-06-15 23:36:44  2021-06-15   \n",
       "3724    TF_ACULEI_3316_DSCF3425.jpg  CAM_1 2021-06-15 00:17:11  2021-06-15   \n",
       "11228  TF_ACULEI_13908_DSCF0214.jpg    NaN                 NaT         NaT   \n",
       "7634    TF_ACULEI_6293_DSCF6636.jpg  CAM_1 2021-06-25 00:46:03  2021-06-25   \n",
       "12191   TF_ACULEI_9875_DSCF0289.jpg  CAM_1 2021-11-24 03:34:57  2021-11-24   \n",
       "13647   TF_ACULEI_7885_DSCF0183.jpg  CAM_1 2021-07-15 04:58:22  2021-07-15   \n",
       "3634   TF_ACULEI_14626_IMAG0299.jpg    NaN 2023-02-09 07:18:03  2023-02-09   \n",
       "12857  TF_ACULEI_16417_DSCF0108.jpg    NaN 2023-07-27 22:27:23  2023-07-27   \n",
       "4112   TF_ACULEI_15060_DSCF0079.jpg    NaN 2023-03-15 07:30:13  2023-03-15   \n",
       "\n",
       "           time             moon  \n",
       "11752  22:17:49  Waning Crescent  \n",
       "16032  23:36:44   Waxing Gibbous  \n",
       "3724   00:17:11   Waxing Gibbous  \n",
       "11228       NaT             None  \n",
       "7634   00:46:03  Waning Crescent  \n",
       "12191  03:34:57  Waning Crescent  \n",
       "13647  04:58:22   Waxing Gibbous  \n",
       "3634   07:18:03  Waning Crescent  \n",
       "12857  22:27:23  Waning Crescent  \n",
       "4112   07:30:13  Waning Crescent  "
      ]
     },
     "execution_count": 116,
     "metadata": {},
     "output_type": "execute_result"
    }
   ],
   "source": [
    "df.sample(10)"
   ]
  },
  {
   "cell_type": "code",
   "execution_count": 117,
   "metadata": {},
   "outputs": [],
   "source": [
    "# save the dataframe to a csv \n",
    "csv_path = '../aculei.csv'\n",
    "df.to_csv(csv_path)"
   ]
  }
 ],
 "metadata": {
  "kernelspec": {
   "display_name": "Python 3",
   "language": "python",
   "name": "python3"
  },
  "language_info": {
   "codemirror_mode": {
    "name": "ipython",
    "version": 3
   },
   "file_extension": ".py",
   "mimetype": "text/x-python",
   "name": "python",
   "nbconvert_exporter": "python",
   "pygments_lexer": "ipython3",
   "version": "3.10.7"
  }
 },
 "nbformat": 4,
 "nbformat_minor": 2
}
