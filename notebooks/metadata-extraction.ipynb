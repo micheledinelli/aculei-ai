{
 "cells": [
  {
   "cell_type": "markdown",
   "metadata": {},
   "source": [
    "### Extract metadata from images \n",
    "\n",
    "The first step is to extract as much data as we can from images metadata in order to have a dataset to start from. "
   ]
  },
  {
   "cell_type": "code",
   "execution_count": 1,
   "metadata": {},
   "outputs": [],
   "source": [
    "import os\n",
    "\n",
    "import numpy as np\n",
    "import pandas as pd\n",
    "\n",
    "import exiftool\n",
    "from tqdm import tqdm\n",
    "\n",
    "import imagehash\n",
    "from PIL import Image"
   ]
  },
  {
   "cell_type": "code",
   "execution_count": 2,
   "metadata": {},
   "outputs": [],
   "source": [
    "image_folder_path = '../images/aculei-images/'\n",
    "image_names = np.array([f for f in os.listdir(image_folder_path) if f.lower().endswith('.jpg')])"
   ]
  },
  {
   "cell_type": "markdown",
   "metadata": {},
   "source": [
    "Using [exiftool wrapper](https://pypi.org/project/PyExifTool/) is possible to extract tons of metadata from the images. Unfortunately some images do not come with metadata we are looking for so in the next episode we'll introduce OCR to read the metadata directly from the image. "
   ]
  },
  {
   "cell_type": "code",
   "execution_count": 3,
   "metadata": {},
   "outputs": [
    {
     "name": "stderr",
     "output_type": "stream",
     "text": [
      "Extracting metadata:   0%|          | 0/16874 [00:00<?, ?it/s]"
     ]
    },
    {
     "name": "stderr",
     "output_type": "stream",
     "text": [
      "Extracting metadata: 100%|██████████| 16874/16874 [21:22<00:00, 13.16it/s]\n"
     ]
    }
   ],
   "source": [
    "# defining tags we are interested in\n",
    "tags_for_cam = [\"Keywords\", \"Subject\", \"WeightedFlatSubject\"]\n",
    "tags_for_datetime = [\"CreateDate\", \"DateCreated\"]\n",
    "\n",
    "tags = tags_for_cam + tags_for_datetime\n",
    "\n",
    "df = pd.DataFrame()\n",
    "for image in tqdm(image_names, desc=\"Extracting metadata\"):\n",
    "    file_path = os.path.join(image_folder_path, image)\n",
    "    # image_hash = imagehash.average_hash(Image.open(file_path))\n",
    "    \n",
    "    with exiftool.ExifToolHelper() as et:\n",
    "        try:\n",
    "            metadata = {}\n",
    "            \n",
    "            # caluclating the hash to have a unique identifier\n",
    "            # metadata['hash'] = image_hash\n",
    "            metadata['image_name'] = image\n",
    "            for d in et.get_tags([file_path], tags=tags):\n",
    "                for k, v in d.items():\n",
    "                    metadata[k] = v\n",
    "            df = pd.concat([df, pd.DataFrame.from_records([metadata])], ignore_index=True)\n",
    "        except Exception as e:\n",
    "            print(e)"
   ]
  },
  {
   "cell_type": "code",
   "execution_count": 4,
   "metadata": {},
   "outputs": [
    {
     "data": {
      "text/plain": [
       "(16874, 9)"
      ]
     },
     "execution_count": 4,
     "metadata": {},
     "output_type": "execute_result"
    }
   ],
   "source": [
    "df.shape"
   ]
  },
  {
   "cell_type": "code",
   "execution_count": 5,
   "metadata": {},
   "outputs": [
    {
     "data": {
      "text/plain": [
       "image_name                    0\n",
       "SourceFile                    0\n",
       "IPTC:Keywords              4451\n",
       "XMP:Subject                4451\n",
       "XMP:WeightedFlatSubject    4451\n",
       "EXIF:CreateDate             103\n",
       "XMP:CreateDate              103\n",
       "IPTC:DateCreated            103\n",
       "XMP:DateCreated             103\n",
       "dtype: int64"
      ]
     },
     "execution_count": 5,
     "metadata": {},
     "output_type": "execute_result"
    }
   ],
   "source": [
    "df.isnull().sum()"
   ]
  },
  {
   "cell_type": "code",
   "execution_count": 6,
   "metadata": {},
   "outputs": [],
   "source": [
    "# clean some columns\n",
    "df.drop(columns=['SourceFile', 'XMP:WeightedFlatSubject', 'IPTC:Keywords', 'EXIF:CreateDate', 'IPTC:DateCreated', 'XMP:DateCreated'], \n",
    "        inplace=True)"
   ]
  },
  {
   "cell_type": "code",
   "execution_count": 7,
   "metadata": {},
   "outputs": [],
   "source": [
    "df['date_time'] = pd.to_datetime(df['XMP:CreateDate'], format='%Y:%m:%d %H:%M:%S')\n",
    "\n",
    "# split into 'date' and 'time' columns\n",
    "df['date'] = df['date_time'].dt.date\n",
    "df['time'] = df['date_time'].dt.time\n",
    "\n",
    "# Drop the original 'DateTime' column has it is no longer needed\n",
    "df.drop(columns=['XMP:CreateDate'], inplace=True)"
   ]
  },
  {
   "cell_type": "code",
   "execution_count": 8,
   "metadata": {},
   "outputs": [],
   "source": [
    "# rename some columns\n",
    "df.rename(columns={\"XMP:Subject\": \"camera\"}, inplace=True)"
   ]
  },
  {
   "cell_type": "code",
   "execution_count": 9,
   "metadata": {},
   "outputs": [
    {
     "data": {
      "text/html": [
       "<div>\n",
       "<style scoped>\n",
       "    .dataframe tbody tr th:only-of-type {\n",
       "        vertical-align: middle;\n",
       "    }\n",
       "\n",
       "    .dataframe tbody tr th {\n",
       "        vertical-align: top;\n",
       "    }\n",
       "\n",
       "    .dataframe thead th {\n",
       "        text-align: right;\n",
       "    }\n",
       "</style>\n",
       "<table border=\"1\" class=\"dataframe\">\n",
       "  <thead>\n",
       "    <tr style=\"text-align: right;\">\n",
       "      <th></th>\n",
       "      <th>image_name</th>\n",
       "      <th>camera</th>\n",
       "      <th>date_time</th>\n",
       "      <th>date</th>\n",
       "      <th>time</th>\n",
       "    </tr>\n",
       "  </thead>\n",
       "  <tbody>\n",
       "    <tr>\n",
       "      <th>0</th>\n",
       "      <td>TF_ACULEI_8040_DSCF0129.jpg</td>\n",
       "      <td>CAM_1</td>\n",
       "      <td>2021-07-22 23:04:07</td>\n",
       "      <td>2021-07-22</td>\n",
       "      <td>23:04:07</td>\n",
       "    </tr>\n",
       "    <tr>\n",
       "      <th>1</th>\n",
       "      <td>TF_ACULEI_900_DSCF0756.jpg</td>\n",
       "      <td>CAM_1</td>\n",
       "      <td>2021-05-27 22:01:44</td>\n",
       "      <td>2021-05-27</td>\n",
       "      <td>22:01:44</td>\n",
       "    </tr>\n",
       "    <tr>\n",
       "      <th>2</th>\n",
       "      <td>TF_ACULEI_15294_DSCF0133.jpg</td>\n",
       "      <td>NaN</td>\n",
       "      <td>2023-03-30 20:35:58</td>\n",
       "      <td>2023-03-30</td>\n",
       "      <td>20:35:58</td>\n",
       "    </tr>\n",
       "    <tr>\n",
       "      <th>3</th>\n",
       "      <td>TF_ACULEI_11374_DSCF0064.jpg</td>\n",
       "      <td>CAM_6</td>\n",
       "      <td>2022-06-09 21:29:59</td>\n",
       "      <td>2022-06-09</td>\n",
       "      <td>21:29:59</td>\n",
       "    </tr>\n",
       "    <tr>\n",
       "      <th>4</th>\n",
       "      <td>TF_ACULEI_4106_DSCF4336.jpg</td>\n",
       "      <td>CAM_1</td>\n",
       "      <td>2021-06-16 23:41:09</td>\n",
       "      <td>2021-06-16</td>\n",
       "      <td>23:41:09</td>\n",
       "    </tr>\n",
       "    <tr>\n",
       "      <th>5</th>\n",
       "      <td>TF_ACULEI_1601_DSCF1490.jpg</td>\n",
       "      <td>CAM_1</td>\n",
       "      <td>2021-06-02 00:39:46</td>\n",
       "      <td>2021-06-02</td>\n",
       "      <td>00:39:46</td>\n",
       "    </tr>\n",
       "    <tr>\n",
       "      <th>6</th>\n",
       "      <td>TF_ACULEI_8326_DSCF0393.jpg</td>\n",
       "      <td>CAM_1</td>\n",
       "      <td>2021-07-24 23:20:01</td>\n",
       "      <td>2021-07-24</td>\n",
       "      <td>23:20:01</td>\n",
       "    </tr>\n",
       "    <tr>\n",
       "      <th>7</th>\n",
       "      <td>TF_ACULEI_16157_DSCF0165.jpg</td>\n",
       "      <td>NaN</td>\n",
       "      <td>2023-06-20 07:33:59</td>\n",
       "      <td>2023-06-20</td>\n",
       "      <td>07:33:59</td>\n",
       "    </tr>\n",
       "    <tr>\n",
       "      <th>8</th>\n",
       "      <td>TF_ACULEI_16077_DSCF0744.jpg</td>\n",
       "      <td>NaN</td>\n",
       "      <td>2023-06-09 04:27:57</td>\n",
       "      <td>2023-06-09</td>\n",
       "      <td>04:27:57</td>\n",
       "    </tr>\n",
       "    <tr>\n",
       "      <th>9</th>\n",
       "      <td>TF_ACULEI_2994_DSCF3044.jpg</td>\n",
       "      <td>CAM_1</td>\n",
       "      <td>2021-06-10 21:55:12</td>\n",
       "      <td>2021-06-10</td>\n",
       "      <td>21:55:12</td>\n",
       "    </tr>\n",
       "  </tbody>\n",
       "</table>\n",
       "</div>"
      ],
      "text/plain": [
       "                     image_name camera           date_time        date  \\\n",
       "0   TF_ACULEI_8040_DSCF0129.jpg  CAM_1 2021-07-22 23:04:07  2021-07-22   \n",
       "1    TF_ACULEI_900_DSCF0756.jpg  CAM_1 2021-05-27 22:01:44  2021-05-27   \n",
       "2  TF_ACULEI_15294_DSCF0133.jpg    NaN 2023-03-30 20:35:58  2023-03-30   \n",
       "3  TF_ACULEI_11374_DSCF0064.jpg  CAM_6 2022-06-09 21:29:59  2022-06-09   \n",
       "4   TF_ACULEI_4106_DSCF4336.jpg  CAM_1 2021-06-16 23:41:09  2021-06-16   \n",
       "5   TF_ACULEI_1601_DSCF1490.jpg  CAM_1 2021-06-02 00:39:46  2021-06-02   \n",
       "6   TF_ACULEI_8326_DSCF0393.jpg  CAM_1 2021-07-24 23:20:01  2021-07-24   \n",
       "7  TF_ACULEI_16157_DSCF0165.jpg    NaN 2023-06-20 07:33:59  2023-06-20   \n",
       "8  TF_ACULEI_16077_DSCF0744.jpg    NaN 2023-06-09 04:27:57  2023-06-09   \n",
       "9   TF_ACULEI_2994_DSCF3044.jpg  CAM_1 2021-06-10 21:55:12  2021-06-10   \n",
       "\n",
       "       time  \n",
       "0  23:04:07  \n",
       "1  22:01:44  \n",
       "2  20:35:58  \n",
       "3  21:29:59  \n",
       "4  23:41:09  \n",
       "5  00:39:46  \n",
       "6  23:20:01  \n",
       "7  07:33:59  \n",
       "8  04:27:57  \n",
       "9  21:55:12  "
      ]
     },
     "execution_count": 9,
     "metadata": {},
     "output_type": "execute_result"
    }
   ],
   "source": [
    "df.head(10)"
   ]
  },
  {
   "cell_type": "markdown",
   "metadata": {},
   "source": [
    "We can extract an important feature just from the datetime: the moon phase! it could be a relevant feature to discover some data patterns! "
   ]
  },
  {
   "cell_type": "code",
   "execution_count": 39,
   "metadata": {},
   "outputs": [],
   "source": [
    "from moon_phase import phase\n",
    "\n",
    "# extract moon phase\n",
    "df['date_time'] = pd.to_datetime(df['date_time'])\n",
    "df['moon'] = df['date_time'].apply(lambda x: phase(str(x)) if not pd.isnull(x) else None)"
   ]
  },
  {
   "cell_type": "code",
   "execution_count": 40,
   "metadata": {},
   "outputs": [
    {
     "data": {
      "text/html": [
       "<div>\n",
       "<style scoped>\n",
       "    .dataframe tbody tr th:only-of-type {\n",
       "        vertical-align: middle;\n",
       "    }\n",
       "\n",
       "    .dataframe tbody tr th {\n",
       "        vertical-align: top;\n",
       "    }\n",
       "\n",
       "    .dataframe thead th {\n",
       "        text-align: right;\n",
       "    }\n",
       "</style>\n",
       "<table border=\"1\" class=\"dataframe\">\n",
       "  <thead>\n",
       "    <tr style=\"text-align: right;\">\n",
       "      <th></th>\n",
       "      <th>image_name</th>\n",
       "      <th>camera</th>\n",
       "      <th>date_time</th>\n",
       "      <th>date</th>\n",
       "      <th>time</th>\n",
       "      <th>moon</th>\n",
       "    </tr>\n",
       "  </thead>\n",
       "  <tbody>\n",
       "    <tr>\n",
       "      <th>4237</th>\n",
       "      <td>TF_ACULEI_1195_DSCF1061.jpg</td>\n",
       "      <td>CAM_1</td>\n",
       "      <td>2021-05-27 22:56:12</td>\n",
       "      <td>2021-05-27</td>\n",
       "      <td>22:56:12</td>\n",
       "      <td>Full Moon</td>\n",
       "    </tr>\n",
       "    <tr>\n",
       "      <th>2186</th>\n",
       "      <td>TF_ACULEI_10934_DSCF0115.jpg</td>\n",
       "      <td>CAM_4</td>\n",
       "      <td>2022-04-09 03:05:42</td>\n",
       "      <td>2022-04-09</td>\n",
       "      <td>03:05:42</td>\n",
       "      <td>First Quarter</td>\n",
       "    </tr>\n",
       "    <tr>\n",
       "      <th>4188</th>\n",
       "      <td>TF_ACULEI_6959_DSCF7325.jpg</td>\n",
       "      <td>CAM_1</td>\n",
       "      <td>2021-06-28 03:49:41</td>\n",
       "      <td>2021-06-28</td>\n",
       "      <td>03:49:41</td>\n",
       "      <td>Waning Gibbous</td>\n",
       "    </tr>\n",
       "    <tr>\n",
       "      <th>12645</th>\n",
       "      <td>TF_ACULEI_13130_DSCF0125.jpg</td>\n",
       "      <td>NaN</td>\n",
       "      <td>2023-01-02 17:09:11</td>\n",
       "      <td>2023-01-02</td>\n",
       "      <td>17:09:11</td>\n",
       "      <td>Waxing Gibbous</td>\n",
       "    </tr>\n",
       "    <tr>\n",
       "      <th>14527</th>\n",
       "      <td>TF_ACULEI_8333_DSCF0400.jpg</td>\n",
       "      <td>CAM_1</td>\n",
       "      <td>2021-07-24 23:21:03</td>\n",
       "      <td>2021-07-24</td>\n",
       "      <td>23:21:03</td>\n",
       "      <td>Full Moon</td>\n",
       "    </tr>\n",
       "    <tr>\n",
       "      <th>7383</th>\n",
       "      <td>TF_ACULEI_3192_DSCF3241.jpg</td>\n",
       "      <td>CAM_1</td>\n",
       "      <td>2021-06-10 22:28:32</td>\n",
       "      <td>2021-06-10</td>\n",
       "      <td>22:28:32</td>\n",
       "      <td>New Moon</td>\n",
       "    </tr>\n",
       "    <tr>\n",
       "      <th>3996</th>\n",
       "      <td>TF_ACULEI_10307_IMAG0105.jpg</td>\n",
       "      <td>CAM_3</td>\n",
       "      <td>2022-01-07 21:51:17</td>\n",
       "      <td>2022-01-07</td>\n",
       "      <td>21:51:17</td>\n",
       "      <td>Waxing Crescent</td>\n",
       "    </tr>\n",
       "    <tr>\n",
       "      <th>8792</th>\n",
       "      <td>TF_ACULEI_13981_DSCF0748.jpg</td>\n",
       "      <td>NaN</td>\n",
       "      <td>2023-01-23 20:43:51</td>\n",
       "      <td>2023-01-23</td>\n",
       "      <td>20:43:51</td>\n",
       "      <td>Waxing Crescent</td>\n",
       "    </tr>\n",
       "    <tr>\n",
       "      <th>4215</th>\n",
       "      <td>TF_ACULEI_2167_DSCF2172.jpg</td>\n",
       "      <td>CAM_1</td>\n",
       "      <td>2021-06-08 00:32:33</td>\n",
       "      <td>2021-06-08</td>\n",
       "      <td>00:32:33</td>\n",
       "      <td>Waning Crescent</td>\n",
       "    </tr>\n",
       "    <tr>\n",
       "      <th>14131</th>\n",
       "      <td>TF_ACULEI_14864_DSCF0027.jpg</td>\n",
       "      <td>NaN</td>\n",
       "      <td>2023-02-25 01:09:41</td>\n",
       "      <td>2023-02-25</td>\n",
       "      <td>01:09:41</td>\n",
       "      <td>Waxing Crescent</td>\n",
       "    </tr>\n",
       "  </tbody>\n",
       "</table>\n",
       "</div>"
      ],
      "text/plain": [
       "                         image_name camera           date_time        date  \\\n",
       "4237    TF_ACULEI_1195_DSCF1061.jpg  CAM_1 2021-05-27 22:56:12  2021-05-27   \n",
       "2186   TF_ACULEI_10934_DSCF0115.jpg  CAM_4 2022-04-09 03:05:42  2022-04-09   \n",
       "4188    TF_ACULEI_6959_DSCF7325.jpg  CAM_1 2021-06-28 03:49:41  2021-06-28   \n",
       "12645  TF_ACULEI_13130_DSCF0125.jpg    NaN 2023-01-02 17:09:11  2023-01-02   \n",
       "14527   TF_ACULEI_8333_DSCF0400.jpg  CAM_1 2021-07-24 23:21:03  2021-07-24   \n",
       "7383    TF_ACULEI_3192_DSCF3241.jpg  CAM_1 2021-06-10 22:28:32  2021-06-10   \n",
       "3996   TF_ACULEI_10307_IMAG0105.jpg  CAM_3 2022-01-07 21:51:17  2022-01-07   \n",
       "8792   TF_ACULEI_13981_DSCF0748.jpg    NaN 2023-01-23 20:43:51  2023-01-23   \n",
       "4215    TF_ACULEI_2167_DSCF2172.jpg  CAM_1 2021-06-08 00:32:33  2021-06-08   \n",
       "14131  TF_ACULEI_14864_DSCF0027.jpg    NaN 2023-02-25 01:09:41  2023-02-25   \n",
       "\n",
       "           time             moon  \n",
       "4237   22:56:12        Full Moon  \n",
       "2186   03:05:42    First Quarter  \n",
       "4188   03:49:41   Waning Gibbous  \n",
       "12645  17:09:11   Waxing Gibbous  \n",
       "14527  23:21:03        Full Moon  \n",
       "7383   22:28:32         New Moon  \n",
       "3996   21:51:17  Waxing Crescent  \n",
       "8792   20:43:51  Waxing Crescent  \n",
       "4215   00:32:33  Waning Crescent  \n",
       "14131  01:09:41  Waxing Crescent  "
      ]
     },
     "execution_count": 40,
     "metadata": {},
     "output_type": "execute_result"
    }
   ],
   "source": [
    "df.sample(10)"
   ]
  },
  {
   "cell_type": "code",
   "execution_count": 33,
   "metadata": {},
   "outputs": [],
   "source": [
    "# save the dataframe to a csv \n",
    "csv_path = '../aculei.csv'\n",
    "df.to_csv(csv_path)"
   ]
  },
  {
   "cell_type": "markdown",
   "metadata": {},
   "source": [
    "We have to clean up the camera column a little bit because there are unwanted classes"
   ]
  },
  {
   "cell_type": "code",
   "execution_count": 34,
   "metadata": {},
   "outputs": [],
   "source": [
    "dd = pd.read_csv('../aculei.csv', index_col=0)\n"
   ]
  },
  {
   "cell_type": "code",
   "execution_count": 35,
   "metadata": {},
   "outputs": [
    {
     "data": {
      "text/plain": [
       "CAM_1                                                                            9076\n",
       "CAM_4                                                                            1047\n",
       "CAM_3                                                                             995\n",
       "CAM_5                                                                             671\n",
       "CAM_6                                                                             201\n",
       "CAM_7                                                                             197\n",
       "CAM_2                                                                             188\n",
       "[2022, 'CAM_6', 'Laghetto']                                                        46\n",
       "['11/22', 'CAM_7']                                                                  1\n",
       "[2023, 'analogue shutterino', 'backstage', 'banco', 'bosco', 'laghetto gigi']       1\n",
       "Name: camera, dtype: int64"
      ]
     },
     "execution_count": 35,
     "metadata": {},
     "output_type": "execute_result"
    }
   ],
   "source": [
    "dd['camera'].value_counts()"
   ]
  },
  {
   "cell_type": "code",
   "execution_count": 36,
   "metadata": {},
   "outputs": [],
   "source": [
    "dd['camera'] = dd['camera'].apply(lambda x: 'CAM_6' if x == \"[2022, 'CAM_6', 'Laghetto']\" \n",
    "                                  else x)\n",
    "dd['camera'] = dd['camera'].apply(lambda x: None if x == \"[2023, 'analogue shutterino', 'backstage', 'banco', 'bosco', 'laghetto gigi']\" \n",
    "                                  else x)\n",
    "dd['camera'] = dd['camera'].apply(lambda x: 'CAM_7' if x == \"['11/22', 'CAM_7']\" \n",
    "                                  else x)"
   ]
  },
  {
   "cell_type": "code",
   "execution_count": 37,
   "metadata": {},
   "outputs": [
    {
     "data": {
      "text/plain": [
       "CAM_1    9076\n",
       "CAM_4    1047\n",
       "CAM_3     995\n",
       "CAM_5     671\n",
       "CAM_6     247\n",
       "CAM_7     198\n",
       "CAM_2     188\n",
       "Name: camera, dtype: int64"
      ]
     },
     "execution_count": 37,
     "metadata": {},
     "output_type": "execute_result"
    }
   ],
   "source": [
    "dd['camera'].value_counts()"
   ]
  },
  {
   "cell_type": "code",
   "execution_count": 38,
   "metadata": {},
   "outputs": [],
   "source": [
    "# save the dataframe to a csv \n",
    "csv_path = '../aculei.csv'\n",
    "dd.to_csv(csv_path)"
   ]
  }
 ],
 "metadata": {
  "kernelspec": {
   "display_name": "Python 3",
   "language": "python",
   "name": "python3"
  },
  "language_info": {
   "codemirror_mode": {
    "name": "ipython",
    "version": 3
   },
   "file_extension": ".py",
   "mimetype": "text/x-python",
   "name": "python",
   "nbconvert_exporter": "python",
   "pygments_lexer": "ipython3",
   "version": "3.10.7"
  }
 },
 "nbformat": 4,
 "nbformat_minor": 2
}
