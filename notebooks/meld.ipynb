{
 "cells": [
  {
   "cell_type": "markdown",
   "metadata": {},
   "source": [
    "### MELD\n",
    "\n",
    "In this notebook we'll merge results from the two techniques used to collect metadata from the phot archive\n",
    "\n",
    "- **metadata** extraction with exiftool\n",
    "- **ocr** with tessaract\n",
    "\n",
    "We'll discuss what we obtained and we'll eventually merge the data to obtain the final dataset\n",
    "\n",
    "The merge strategy is based on the **image hash calculation**"
   ]
  }
 ],
 "metadata": {
  "language_info": {
   "name": "python"
  }
 },
 "nbformat": 4,
 "nbformat_minor": 2
}
