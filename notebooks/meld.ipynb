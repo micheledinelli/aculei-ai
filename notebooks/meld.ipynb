{
 "cells": [
  {
   "cell_type": "markdown",
   "metadata": {},
   "source": [
    "### MELD\n",
    "\n",
    "In this notebook we'll merge results from the two techniques used to collect metadata from the phot archive\n",
    "\n",
    "- **metadata** extraction with exiftool\n",
    "- **ocr** with tessaract\n",
    "\n",
    "We'll discuss what we obtained and we'll eventually merge the data to obtain the final dataset"
   ]
  },
  {
   "cell_type": "code",
   "execution_count": 30,
   "metadata": {},
   "outputs": [],
   "source": [
    "import os\n",
    "import pandas as pd\n",
    "import numpy as np\n",
    "\n",
    "from PIL import Image"
   ]
  },
  {
   "cell_type": "code",
   "execution_count": 31,
   "metadata": {},
   "outputs": [],
   "source": [
    "datasets_directory = '../datasets'\n",
    "\n",
    "df_ocr = pd.read_csv(f'{datasets_directory}/ocr.csv', index_col=0)\n",
    "df_metadata = pd.read_csv(f'{datasets_directory}/metadata.csv', index_col=0)"
   ]
  },
  {
   "cell_type": "code",
   "execution_count": 32,
   "metadata": {},
   "outputs": [
    {
     "name": "stdout",
     "output_type": "stream",
     "text": [
      "Dataframe without OCR\n",
      "<class 'pandas.core.frame.DataFrame'>\n",
      "Int64Index: 16874 entries, 0 to 16873\n",
      "Data columns (total 7 columns):\n",
      " #   Column      Non-Null Count  Dtype \n",
      "---  ------      --------------  ----- \n",
      " 0   hash        16874 non-null  object\n",
      " 1   image_name  16874 non-null  object\n",
      " 2   camera      12422 non-null  object\n",
      " 3   date_time   16771 non-null  object\n",
      " 4   date        16771 non-null  object\n",
      " 5   time        16771 non-null  object\n",
      " 6   moon        16771 non-null  object\n",
      "dtypes: object(7)\n",
      "memory usage: 1.0+ MB\n",
      "None\n"
     ]
    }
   ],
   "source": [
    "print('Dataframe without OCR')\n",
    "print(df_metadata.info())"
   ]
  },
  {
   "cell_type": "code",
   "execution_count": 33,
   "metadata": {},
   "outputs": [
    {
     "name": "stdout",
     "output_type": "stream",
     "text": [
      "Dataframe with OCR\n",
      "<class 'pandas.core.frame.DataFrame'>\n",
      "Int64Index: 16874 entries, 0 to 16873\n",
      "Data columns (total 6 columns):\n",
      " #   Column      Non-Null Count  Dtype \n",
      "---  ------      --------------  ----- \n",
      " 0   image_name  16874 non-null  object\n",
      " 1   camera      16337 non-null  object\n",
      " 2   date_time   16771 non-null  object\n",
      " 3   date        16862 non-null  object\n",
      " 4   time        16862 non-null  object\n",
      " 5   moon        16771 non-null  object\n",
      "dtypes: object(6)\n",
      "memory usage: 922.8+ KB\n",
      "None\n"
     ]
    }
   ],
   "source": [
    "print('Dataframe with OCR')\n",
    "print(df_ocr.info())"
   ]
  }
 ],
 "metadata": {
  "kernelspec": {
   "display_name": "Python 3",
   "language": "python",
   "name": "python3"
  },
  "language_info": {
   "codemirror_mode": {
    "name": "ipython",
    "version": 3
   },
   "file_extension": ".py",
   "mimetype": "text/x-python",
   "name": "python",
   "nbconvert_exporter": "python",
   "pygments_lexer": "ipython3",
   "version": "3.10.7"
  }
 },
 "nbformat": 4,
 "nbformat_minor": 2
}
