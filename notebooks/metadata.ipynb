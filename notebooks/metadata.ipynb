{
 "cells": [
  {
   "cell_type": "markdown",
   "metadata": {},
   "source": [
    "### Extract metadata from images \n",
    "\n",
    "The first step is to extract as much data as we can from images metadata in order to have a dataset to start from. "
   ]
  },
  {
   "cell_type": "code",
   "execution_count": 1,
   "metadata": {},
   "outputs": [],
   "source": [
    "import os\n",
    "\n",
    "import numpy as np\n",
    "import pandas as pd\n",
    "\n",
    "import exiftool\n",
    "from tqdm import tqdm\n",
    "\n",
    "import imagehash\n",
    "from PIL import Image"
   ]
  },
  {
   "cell_type": "code",
   "execution_count": 2,
   "metadata": {},
   "outputs": [],
   "source": [
    "image_folder_path = '../images/aculei-images/'\n",
    "image_names = np.array([f for f in os.listdir(image_folder_path) if f.lower().endswith('.jpg')])"
   ]
  },
  {
   "cell_type": "markdown",
   "metadata": {},
   "source": [
    "Using [exiftool wrapper](https://pypi.org/project/PyExifTool/) is possible to extract tons of metadata from the images. Unfortunately some images do not come with metadata we are looking for so in the next episode we'll introduce OCR to read the metadata directly from the image. "
   ]
  },
  {
   "cell_type": "code",
   "execution_count": 3,
   "metadata": {},
   "outputs": [
    {
     "name": "stderr",
     "output_type": "stream",
     "text": [
      "Extracting metadata:   0%|          | 0/16874 [00:00<?, ?it/s]"
     ]
    },
    {
     "name": "stderr",
     "output_type": "stream",
     "text": [
      "Extracting metadata: 100%|██████████| 16874/16874 [46:23<00:00,  6.06it/s]\n"
     ]
    }
   ],
   "source": [
    "# defining tags we are interested in\n",
    "tags_for_cam = [\"Keywords\", \"Subject\", \"WeightedFlatSubject\"]\n",
    "tags_for_datetime = [\"CreateDate\", \"DateCreated\"]\n",
    "\n",
    "tags = tags_for_cam + tags_for_datetime\n",
    "\n",
    "df = pd.DataFrame()\n",
    "for image in tqdm(image_names, desc=\"Extracting metadata\"):\n",
    "    file_path = os.path.join(image_folder_path, image)\n",
    "    image_hash = imagehash.average_hash(Image.open(file_path))\n",
    "    \n",
    "    with exiftool.ExifToolHelper() as et:\n",
    "        try:\n",
    "            metadata = {}\n",
    "            \n",
    "            # caluclating the hash to have a unique identifier\n",
    "            metadata['hash'] = image_hash\n",
    "            metadata['image_name'] = image\n",
    "            for d in et.get_tags([file_path], tags=tags):\n",
    "                for k, v in d.items():\n",
    "                    metadata[k] = v\n",
    "            df = pd.concat([df, pd.DataFrame.from_records([metadata])], ignore_index=True)\n",
    "        except Exception as e:\n",
    "            print(e)"
   ]
  },
  {
   "cell_type": "code",
   "execution_count": 4,
   "metadata": {},
   "outputs": [
    {
     "data": {
      "text/plain": [
       "(16874, 10)"
      ]
     },
     "execution_count": 4,
     "metadata": {},
     "output_type": "execute_result"
    }
   ],
   "source": [
    "df.shape"
   ]
  },
  {
   "cell_type": "code",
   "execution_count": 5,
   "metadata": {},
   "outputs": [
    {
     "data": {
      "text/plain": [
       "hash                          0\n",
       "image_name                    0\n",
       "SourceFile                    0\n",
       "IPTC:Keywords              4451\n",
       "XMP:Subject                4451\n",
       "XMP:WeightedFlatSubject    4451\n",
       "EXIF:CreateDate             103\n",
       "XMP:CreateDate              103\n",
       "IPTC:DateCreated            103\n",
       "XMP:DateCreated             103\n",
       "dtype: int64"
      ]
     },
     "execution_count": 5,
     "metadata": {},
     "output_type": "execute_result"
    }
   ],
   "source": [
    "df.isnull().sum()"
   ]
  },
  {
   "cell_type": "code",
   "execution_count": 6,
   "metadata": {},
   "outputs": [],
   "source": [
    "# clean some columns\n",
    "df.drop(columns=['SourceFile', 'XMP:WeightedFlatSubject', 'IPTC:Keywords', 'EXIF:CreateDate', 'IPTC:DateCreated', 'XMP:DateCreated'], \n",
    "        inplace=True)"
   ]
  },
  {
   "cell_type": "code",
   "execution_count": 7,
   "metadata": {},
   "outputs": [],
   "source": [
    "df['date_time'] = pd.to_datetime(df['XMP:CreateDate'], format='%Y:%m:%d %H:%M:%S')\n",
    "\n",
    "# split into 'date' and 'time' columns\n",
    "df['date'] = df['date_time'].dt.date\n",
    "df['time'] = df['date_time'].dt.time\n",
    "\n",
    "# Drop the original 'DateTime' column has it is no longer needed\n",
    "df.drop(columns=['XMP:CreateDate'], inplace=True)"
   ]
  },
  {
   "cell_type": "code",
   "execution_count": 8,
   "metadata": {},
   "outputs": [],
   "source": [
    "# rename some columns\n",
    "df.rename(columns={\"XMP:Subject\": \"camera\"}, inplace=True)"
   ]
  },
  {
   "cell_type": "code",
   "execution_count": 9,
   "metadata": {},
   "outputs": [
    {
     "data": {
      "text/html": [
       "<div>\n",
       "<style scoped>\n",
       "    .dataframe tbody tr th:only-of-type {\n",
       "        vertical-align: middle;\n",
       "    }\n",
       "\n",
       "    .dataframe tbody tr th {\n",
       "        vertical-align: top;\n",
       "    }\n",
       "\n",
       "    .dataframe thead th {\n",
       "        text-align: right;\n",
       "    }\n",
       "</style>\n",
       "<table border=\"1\" class=\"dataframe\">\n",
       "  <thead>\n",
       "    <tr style=\"text-align: right;\">\n",
       "      <th></th>\n",
       "      <th>hash</th>\n",
       "      <th>image_name</th>\n",
       "      <th>camera</th>\n",
       "      <th>date_time</th>\n",
       "      <th>date</th>\n",
       "      <th>time</th>\n",
       "    </tr>\n",
       "  </thead>\n",
       "  <tbody>\n",
       "    <tr>\n",
       "      <th>0</th>\n",
       "      <td>00100018fdffffff</td>\n",
       "      <td>TF_ACULEI_8040_DSCF0129.jpg</td>\n",
       "      <td>CAM_1</td>\n",
       "      <td>2021-07-22 23:04:07</td>\n",
       "      <td>2021-07-22</td>\n",
       "      <td>23:04:07</td>\n",
       "    </tr>\n",
       "    <tr>\n",
       "      <th>1</th>\n",
       "      <td>000000b8fcfcffff</td>\n",
       "      <td>TF_ACULEI_900_DSCF0756.jpg</td>\n",
       "      <td>CAM_1</td>\n",
       "      <td>2021-05-27 22:01:44</td>\n",
       "      <td>2021-05-27</td>\n",
       "      <td>22:01:44</td>\n",
       "    </tr>\n",
       "    <tr>\n",
       "      <th>2</th>\n",
       "      <td>0000001000787f7f</td>\n",
       "      <td>TF_ACULEI_15294_DSCF0133.jpg</td>\n",
       "      <td>NaN</td>\n",
       "      <td>2023-03-30 20:35:58</td>\n",
       "      <td>2023-03-30</td>\n",
       "      <td>20:35:58</td>\n",
       "    </tr>\n",
       "    <tr>\n",
       "      <th>3</th>\n",
       "      <td>0000001e1e3cfe7f</td>\n",
       "      <td>TF_ACULEI_11374_DSCF0064.jpg</td>\n",
       "      <td>CAM_6</td>\n",
       "      <td>2022-06-09 21:29:59</td>\n",
       "      <td>2022-06-09</td>\n",
       "      <td>21:29:59</td>\n",
       "    </tr>\n",
       "    <tr>\n",
       "      <th>4</th>\n",
       "      <td>00080818fcfeffff</td>\n",
       "      <td>TF_ACULEI_4106_DSCF4336.jpg</td>\n",
       "      <td>CAM_1</td>\n",
       "      <td>2021-06-16 23:41:09</td>\n",
       "      <td>2021-06-16</td>\n",
       "      <td>23:41:09</td>\n",
       "    </tr>\n",
       "    <tr>\n",
       "      <th>5</th>\n",
       "      <td>000800b8fcfdfffd</td>\n",
       "      <td>TF_ACULEI_1601_DSCF1490.jpg</td>\n",
       "      <td>CAM_1</td>\n",
       "      <td>2021-06-02 00:39:46</td>\n",
       "      <td>2021-06-02</td>\n",
       "      <td>00:39:46</td>\n",
       "    </tr>\n",
       "    <tr>\n",
       "      <th>6</th>\n",
       "      <td>00100c3cfcfdffff</td>\n",
       "      <td>TF_ACULEI_8326_DSCF0393.jpg</td>\n",
       "      <td>CAM_1</td>\n",
       "      <td>2021-07-24 23:20:01</td>\n",
       "      <td>2021-07-24</td>\n",
       "      <td>23:20:01</td>\n",
       "    </tr>\n",
       "    <tr>\n",
       "      <th>7</th>\n",
       "      <td>ff0f000000000fff</td>\n",
       "      <td>TF_ACULEI_16157_DSCF0165.jpg</td>\n",
       "      <td>NaN</td>\n",
       "      <td>2023-06-20 07:33:59</td>\n",
       "      <td>2023-06-20</td>\n",
       "      <td>07:33:59</td>\n",
       "    </tr>\n",
       "    <tr>\n",
       "      <th>8</th>\n",
       "      <td>e6e6f4faf2808000</td>\n",
       "      <td>TF_ACULEI_16077_DSCF0744.jpg</td>\n",
       "      <td>NaN</td>\n",
       "      <td>2023-06-09 04:27:57</td>\n",
       "      <td>2023-06-09</td>\n",
       "      <td>04:27:57</td>\n",
       "    </tr>\n",
       "    <tr>\n",
       "      <th>9</th>\n",
       "      <td>fc78080038fcfc78</td>\n",
       "      <td>TF_ACULEI_2994_DSCF3044.jpg</td>\n",
       "      <td>CAM_1</td>\n",
       "      <td>2021-06-10 21:55:12</td>\n",
       "      <td>2021-06-10</td>\n",
       "      <td>21:55:12</td>\n",
       "    </tr>\n",
       "  </tbody>\n",
       "</table>\n",
       "</div>"
      ],
      "text/plain": [
       "               hash                    image_name camera           date_time  \\\n",
       "0  00100018fdffffff   TF_ACULEI_8040_DSCF0129.jpg  CAM_1 2021-07-22 23:04:07   \n",
       "1  000000b8fcfcffff    TF_ACULEI_900_DSCF0756.jpg  CAM_1 2021-05-27 22:01:44   \n",
       "2  0000001000787f7f  TF_ACULEI_15294_DSCF0133.jpg    NaN 2023-03-30 20:35:58   \n",
       "3  0000001e1e3cfe7f  TF_ACULEI_11374_DSCF0064.jpg  CAM_6 2022-06-09 21:29:59   \n",
       "4  00080818fcfeffff   TF_ACULEI_4106_DSCF4336.jpg  CAM_1 2021-06-16 23:41:09   \n",
       "5  000800b8fcfdfffd   TF_ACULEI_1601_DSCF1490.jpg  CAM_1 2021-06-02 00:39:46   \n",
       "6  00100c3cfcfdffff   TF_ACULEI_8326_DSCF0393.jpg  CAM_1 2021-07-24 23:20:01   \n",
       "7  ff0f000000000fff  TF_ACULEI_16157_DSCF0165.jpg    NaN 2023-06-20 07:33:59   \n",
       "8  e6e6f4faf2808000  TF_ACULEI_16077_DSCF0744.jpg    NaN 2023-06-09 04:27:57   \n",
       "9  fc78080038fcfc78   TF_ACULEI_2994_DSCF3044.jpg  CAM_1 2021-06-10 21:55:12   \n",
       "\n",
       "         date      time  \n",
       "0  2021-07-22  23:04:07  \n",
       "1  2021-05-27  22:01:44  \n",
       "2  2023-03-30  20:35:58  \n",
       "3  2022-06-09  21:29:59  \n",
       "4  2021-06-16  23:41:09  \n",
       "5  2021-06-02  00:39:46  \n",
       "6  2021-07-24  23:20:01  \n",
       "7  2023-06-20  07:33:59  \n",
       "8  2023-06-09  04:27:57  \n",
       "9  2021-06-10  21:55:12  "
      ]
     },
     "execution_count": 9,
     "metadata": {},
     "output_type": "execute_result"
    }
   ],
   "source": [
    "df.head(10)"
   ]
  },
  {
   "cell_type": "markdown",
   "metadata": {},
   "source": [
    "We can extract an important feature just from the datetime: the moon phase! it could be a relevant feature to discover some data patterns! "
   ]
  },
  {
   "cell_type": "code",
   "execution_count": 10,
   "metadata": {},
   "outputs": [],
   "source": [
    "from moon_phase import phase\n",
    "\n",
    "# extract moon phase\n",
    "df['date_time'] = pd.to_datetime(df['date_time'])\n",
    "df['moon'] = df['date_time'].apply(lambda x: phase(str(x)) if not pd.isnull(x) else None)"
   ]
  },
  {
   "cell_type": "code",
   "execution_count": 11,
   "metadata": {},
   "outputs": [
    {
     "data": {
      "text/html": [
       "<div>\n",
       "<style scoped>\n",
       "    .dataframe tbody tr th:only-of-type {\n",
       "        vertical-align: middle;\n",
       "    }\n",
       "\n",
       "    .dataframe tbody tr th {\n",
       "        vertical-align: top;\n",
       "    }\n",
       "\n",
       "    .dataframe thead th {\n",
       "        text-align: right;\n",
       "    }\n",
       "</style>\n",
       "<table border=\"1\" class=\"dataframe\">\n",
       "  <thead>\n",
       "    <tr style=\"text-align: right;\">\n",
       "      <th></th>\n",
       "      <th>hash</th>\n",
       "      <th>image_name</th>\n",
       "      <th>camera</th>\n",
       "      <th>date_time</th>\n",
       "      <th>date</th>\n",
       "      <th>time</th>\n",
       "      <th>moon</th>\n",
       "    </tr>\n",
       "  </thead>\n",
       "  <tbody>\n",
       "    <tr>\n",
       "      <th>4419</th>\n",
       "      <td>e0180206367c7e1c</td>\n",
       "      <td>TF_ACULEI_9333_DSCF0141.jpg</td>\n",
       "      <td>CAM_1</td>\n",
       "      <td>2021-09-30 04:32:42</td>\n",
       "      <td>2021-09-30</td>\n",
       "      <td>04:32:42</td>\n",
       "      <td>Last Quarter</td>\n",
       "    </tr>\n",
       "    <tr>\n",
       "      <th>4097</th>\n",
       "      <td>00080038fcfcfffe</td>\n",
       "      <td>TF_ACULEI_7220_DSCF7566.jpg</td>\n",
       "      <td>CAM_1</td>\n",
       "      <td>2021-07-03 02:24:25</td>\n",
       "      <td>2021-07-03</td>\n",
       "      <td>02:24:25</td>\n",
       "      <td>Last Quarter</td>\n",
       "    </tr>\n",
       "    <tr>\n",
       "      <th>12639</th>\n",
       "      <td>00080038fcfefefe</td>\n",
       "      <td>TF_ACULEI_7159_DSCF7505.jpg</td>\n",
       "      <td>CAM_1</td>\n",
       "      <td>2021-07-03 02:00:47</td>\n",
       "      <td>2021-07-03</td>\n",
       "      <td>02:00:47</td>\n",
       "      <td>Last Quarter</td>\n",
       "    </tr>\n",
       "    <tr>\n",
       "      <th>14087</th>\n",
       "      <td>0000001038383e7f</td>\n",
       "      <td>TF_ACULEI_9161_IMAG0042.jpg</td>\n",
       "      <td>CAM_3</td>\n",
       "      <td>2021-09-09 21:40:54</td>\n",
       "      <td>2021-09-09</td>\n",
       "      <td>21:40:54</td>\n",
       "      <td>Waxing Crescent</td>\n",
       "    </tr>\n",
       "    <tr>\n",
       "      <th>4030</th>\n",
       "      <td>00081098fcfcfebe</td>\n",
       "      <td>TF_ACULEI_2414_DSCF2424.jpg</td>\n",
       "      <td>CAM_1</td>\n",
       "      <td>2021-06-08 01:16:52</td>\n",
       "      <td>2021-06-08</td>\n",
       "      <td>01:16:52</td>\n",
       "      <td>Waning Crescent</td>\n",
       "    </tr>\n",
       "    <tr>\n",
       "      <th>1309</th>\n",
       "      <td>00080030f8fcfffc</td>\n",
       "      <td>TF_ACULEI_848_DSCF0704.jpg</td>\n",
       "      <td>CAM_1</td>\n",
       "      <td>2021-05-27 21:50:52</td>\n",
       "      <td>2021-05-27</td>\n",
       "      <td>21:50:52</td>\n",
       "      <td>Full Moon</td>\n",
       "    </tr>\n",
       "    <tr>\n",
       "      <th>3159</th>\n",
       "      <td>000808387cfeffff</td>\n",
       "      <td>TF_ACULEI_4900_DSCF5177.jpg</td>\n",
       "      <td>CAM_1</td>\n",
       "      <td>2021-06-20 00:25:41</td>\n",
       "      <td>2021-06-20</td>\n",
       "      <td>00:25:41</td>\n",
       "      <td>Waxing Gibbous</td>\n",
       "    </tr>\n",
       "    <tr>\n",
       "      <th>2863</th>\n",
       "      <td>00000038fcfeffff</td>\n",
       "      <td>TF_ACULEI_7434_DSCF7772.jpg</td>\n",
       "      <td>CAM_1</td>\n",
       "      <td>2021-07-06 05:17:48</td>\n",
       "      <td>2021-07-06</td>\n",
       "      <td>05:17:48</td>\n",
       "      <td>Waning Crescent</td>\n",
       "    </tr>\n",
       "    <tr>\n",
       "      <th>13761</th>\n",
       "      <td>000808387cfcfefe</td>\n",
       "      <td>TF_ACULEI_2053_DSCF2058.jpg</td>\n",
       "      <td>CAM_1</td>\n",
       "      <td>2021-06-08 00:08:25</td>\n",
       "      <td>2021-06-08</td>\n",
       "      <td>00:08:25</td>\n",
       "      <td>Waning Crescent</td>\n",
       "    </tr>\n",
       "    <tr>\n",
       "      <th>2387</th>\n",
       "      <td>001000387cfefeff</td>\n",
       "      <td>TF_ACULEI_8623_DSCF0704.jpg</td>\n",
       "      <td>CAM_1</td>\n",
       "      <td>2021-07-28 04:14:27</td>\n",
       "      <td>2021-07-28</td>\n",
       "      <td>04:14:27</td>\n",
       "      <td>Waning Gibbous</td>\n",
       "    </tr>\n",
       "  </tbody>\n",
       "</table>\n",
       "</div>"
      ],
      "text/plain": [
       "                   hash                   image_name camera  \\\n",
       "4419   e0180206367c7e1c  TF_ACULEI_9333_DSCF0141.jpg  CAM_1   \n",
       "4097   00080038fcfcfffe  TF_ACULEI_7220_DSCF7566.jpg  CAM_1   \n",
       "12639  00080038fcfefefe  TF_ACULEI_7159_DSCF7505.jpg  CAM_1   \n",
       "14087  0000001038383e7f  TF_ACULEI_9161_IMAG0042.jpg  CAM_3   \n",
       "4030   00081098fcfcfebe  TF_ACULEI_2414_DSCF2424.jpg  CAM_1   \n",
       "1309   00080030f8fcfffc   TF_ACULEI_848_DSCF0704.jpg  CAM_1   \n",
       "3159   000808387cfeffff  TF_ACULEI_4900_DSCF5177.jpg  CAM_1   \n",
       "2863   00000038fcfeffff  TF_ACULEI_7434_DSCF7772.jpg  CAM_1   \n",
       "13761  000808387cfcfefe  TF_ACULEI_2053_DSCF2058.jpg  CAM_1   \n",
       "2387   001000387cfefeff  TF_ACULEI_8623_DSCF0704.jpg  CAM_1   \n",
       "\n",
       "                date_time        date      time             moon  \n",
       "4419  2021-09-30 04:32:42  2021-09-30  04:32:42     Last Quarter  \n",
       "4097  2021-07-03 02:24:25  2021-07-03  02:24:25     Last Quarter  \n",
       "12639 2021-07-03 02:00:47  2021-07-03  02:00:47     Last Quarter  \n",
       "14087 2021-09-09 21:40:54  2021-09-09  21:40:54  Waxing Crescent  \n",
       "4030  2021-06-08 01:16:52  2021-06-08  01:16:52  Waning Crescent  \n",
       "1309  2021-05-27 21:50:52  2021-05-27  21:50:52        Full Moon  \n",
       "3159  2021-06-20 00:25:41  2021-06-20  00:25:41   Waxing Gibbous  \n",
       "2863  2021-07-06 05:17:48  2021-07-06  05:17:48  Waning Crescent  \n",
       "13761 2021-06-08 00:08:25  2021-06-08  00:08:25  Waning Crescent  \n",
       "2387  2021-07-28 04:14:27  2021-07-28  04:14:27   Waning Gibbous  "
      ]
     },
     "execution_count": 11,
     "metadata": {},
     "output_type": "execute_result"
    }
   ],
   "source": [
    "df.sample(10)"
   ]
  },
  {
   "cell_type": "code",
   "execution_count": 12,
   "metadata": {},
   "outputs": [],
   "source": [
    "# save the dataframe to a csv \n",
    "csv_path = '../datasets/metadata.csv'\n",
    "df.to_csv(csv_path)"
   ]
  },
  {
   "cell_type": "markdown",
   "metadata": {},
   "source": [
    "We have to clean up the camera column a little bit because there are unwanted classes"
   ]
  },
  {
   "cell_type": "code",
   "execution_count": 13,
   "metadata": {},
   "outputs": [],
   "source": [
    "dd = pd.read_csv(csv_path, index_col=0)\n"
   ]
  },
  {
   "cell_type": "code",
   "execution_count": 14,
   "metadata": {},
   "outputs": [
    {
     "data": {
      "text/plain": [
       "CAM_1                                                                            9076\n",
       "CAM_4                                                                            1047\n",
       "CAM_3                                                                             995\n",
       "CAM_5                                                                             671\n",
       "CAM_6                                                                             201\n",
       "CAM_7                                                                             197\n",
       "CAM_2                                                                             188\n",
       "[2022, 'CAM_6', 'Laghetto']                                                        46\n",
       "['11/22', 'CAM_7']                                                                  1\n",
       "[2023, 'analogue shutterino', 'backstage', 'banco', 'bosco', 'laghetto gigi']       1\n",
       "Name: camera, dtype: int64"
      ]
     },
     "execution_count": 14,
     "metadata": {},
     "output_type": "execute_result"
    }
   ],
   "source": [
    "dd['camera'].value_counts()"
   ]
  },
  {
   "cell_type": "code",
   "execution_count": 15,
   "metadata": {},
   "outputs": [],
   "source": [
    "dd['camera'] = dd['camera'].apply(lambda x: 'CAM_6' if x == \"[2022, 'CAM_6', 'Laghetto']\" \n",
    "                                  else x)\n",
    "dd['camera'] = dd['camera'].apply(lambda x: None if x == \"[2023, 'analogue shutterino', 'backstage', 'banco', 'bosco', 'laghetto gigi']\" \n",
    "                                  else x)\n",
    "dd['camera'] = dd['camera'].apply(lambda x: 'CAM_7' if x == \"['11/22', 'CAM_7']\" \n",
    "                                  else x)"
   ]
  },
  {
   "cell_type": "code",
   "execution_count": 16,
   "metadata": {},
   "outputs": [
    {
     "data": {
      "text/plain": [
       "CAM_1    9076\n",
       "CAM_4    1047\n",
       "CAM_3     995\n",
       "CAM_5     671\n",
       "CAM_6     247\n",
       "CAM_7     198\n",
       "CAM_2     188\n",
       "Name: camera, dtype: int64"
      ]
     },
     "execution_count": 16,
     "metadata": {},
     "output_type": "execute_result"
    }
   ],
   "source": [
    "dd['camera'].value_counts()"
   ]
  },
  {
   "cell_type": "code",
   "execution_count": 17,
   "metadata": {},
   "outputs": [],
   "source": [
    "# save the dataframe to a csv \n",
    "dd.to_csv(csv_path)"
   ]
  }
 ],
 "metadata": {
  "kernelspec": {
   "display_name": "Python 3",
   "language": "python",
   "name": "python3"
  },
  "language_info": {
   "codemirror_mode": {
    "name": "ipython",
    "version": 3
   },
   "file_extension": ".py",
   "mimetype": "text/x-python",
   "name": "python",
   "nbconvert_exporter": "python",
   "pygments_lexer": "ipython3",
   "version": "3.10.7"
  }
 },
 "nbformat": 4,
 "nbformat_minor": 2
}
