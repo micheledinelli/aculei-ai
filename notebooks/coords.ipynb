{
 "cells": [
  {
   "cell_type": "code",
   "execution_count": 48,
   "metadata": {},
   "outputs": [],
   "source": [
    "import pandas as pd\n",
    "import numpy as np"
   ]
  },
  {
   "cell_type": "code",
   "execution_count": 49,
   "metadata": {},
   "outputs": [],
   "source": [
    "dd = pd.read_pickle('../feed-datasets/aculei.pkl')\n",
    "df = pd.DataFrame()"
   ]
  },
  {
   "cell_type": "code",
   "execution_count": 54,
   "metadata": {},
   "outputs": [
    {
     "data": {
      "text/html": [
       "<div>\n",
       "<style scoped>\n",
       "    .dataframe tbody tr th:only-of-type {\n",
       "        vertical-align: middle;\n",
       "    }\n",
       "\n",
       "    .dataframe tbody tr th {\n",
       "        vertical-align: top;\n",
       "    }\n",
       "\n",
       "    .dataframe thead th {\n",
       "        text-align: right;\n",
       "    }\n",
       "</style>\n",
       "<table border=\"1\" class=\"dataframe\">\n",
       "  <thead>\n",
       "    <tr style=\"text-align: right;\">\n",
       "      <th></th>\n",
       "      <th>camera</th>\n",
       "      <th>description</th>\n",
       "      <th>last_image</th>\n",
       "      <th>coordinates</th>\n",
       "    </tr>\n",
       "  </thead>\n",
       "  <tbody>\n",
       "    <tr>\n",
       "      <th>0</th>\n",
       "      <td>1.0</td>\n",
       "      <td>DESTROYED BY EXCAVATORGETTING DUNG</td>\n",
       "      <td>06.02.2022</td>\n",
       "      <td>43°10'19.2\"N 12°23'53.2\"E</td>\n",
       "    </tr>\n",
       "    <tr>\n",
       "      <th>1</th>\n",
       "      <td>2.0</td>\n",
       "      <td>OVERWHELMED BY THE DRAINAGE CANAL DURING A DEV...</td>\n",
       "      <td>17.08.2021</td>\n",
       "      <td>43°10'26.3\"N 12°23'53.4\"E</td>\n",
       "    </tr>\n",
       "    <tr>\n",
       "      <th>2</th>\n",
       "      <td>3.0</td>\n",
       "      <td>None</td>\n",
       "      <td>None</td>\n",
       "      <td>43°10'19.0\"N 12°23'49.6\"E</td>\n",
       "    </tr>\n",
       "    <tr>\n",
       "      <th>3</th>\n",
       "      <td>4.0</td>\n",
       "      <td>None</td>\n",
       "      <td>None</td>\n",
       "      <td>43°10'29.6\"N 12°23'54.5\"E</td>\n",
       "    </tr>\n",
       "    <tr>\n",
       "      <th>4</th>\n",
       "      <td>5.0</td>\n",
       "      <td>STOLEN</td>\n",
       "      <td>04.09.2023</td>\n",
       "      <td>None</td>\n",
       "    </tr>\n",
       "  </tbody>\n",
       "</table>\n",
       "</div>"
      ],
      "text/plain": [
       "   camera                                        description  last_image  \\\n",
       "0     1.0                 DESTROYED BY EXCAVATORGETTING DUNG  06.02.2022   \n",
       "1     2.0  OVERWHELMED BY THE DRAINAGE CANAL DURING A DEV...  17.08.2021   \n",
       "2     3.0                                               None        None   \n",
       "3     4.0                                               None        None   \n",
       "4     5.0                                             STOLEN  04.09.2023   \n",
       "\n",
       "                 coordinates  \n",
       "0  43°10'19.2\"N 12°23'53.2\"E  \n",
       "1  43°10'26.3\"N 12°23'53.4\"E  \n",
       "2  43°10'19.0\"N 12°23'49.6\"E  \n",
       "3  43°10'29.6\"N 12°23'54.5\"E  \n",
       "4                       None  "
      ]
     },
     "execution_count": 54,
     "metadata": {},
     "output_type": "execute_result"
    }
   ],
   "source": [
    "import pandas as pd\n",
    "\n",
    "cameras = dd.hunter_camera.unique()\n",
    "\n",
    "# Filter out None values and sort the list\n",
    "cameras = sorted([c for c in cameras if pd.notna(c)])\n",
    "\n",
    "# Define the data\n",
    "description = {\n",
    "    1: 'DESTROYED BY EXCAVATORGETTING DUNG',\n",
    "    2: 'OVERWHELMED BY THE DRAINAGE CANAL DURING A DEVASTATING SUMMER STORM',\n",
    "    5: 'STOLEN',\n",
    "}\n",
    "\n",
    "last_image = {\n",
    "    1: '06.02.2022',\n",
    "    2: '17.08.2021',\n",
    "    5: '04.09.2023',\n",
    "}\n",
    "\n",
    "coordinates = {\n",
    "    1: '43°10\\'19.2\"N 12°23\\'53.2\"E',\n",
    "    2: '43°10\\'26.3\"N 12°23\\'53.4\"E',\n",
    "    3: '43°10\\'19.0\"N 12°23\\'49.6\"E',\n",
    "    4: '43°10\\'29.6\"N 12°23\\'54.5\"E',\n",
    "    6: '43°10\\'26.2\"N 12°23\\'52.9\"E',\n",
    "    7: '43°10\\'29.4\"N 12°23\\'44.2\"E',\n",
    "}\n",
    "\n",
    "# Define the data\n",
    "data = {\n",
    "    'camera': cameras,\n",
    "    'description': [description.get(cam, None) for cam in cameras],\n",
    "    'last_image': [last_image.get(cam, None) for cam in cameras],\n",
    "    'coordinates': [coordinates.get(cam, None) for cam in cameras],\n",
    "}\n",
    "\n",
    "# Create the DataFrame\n",
    "df = pd.DataFrame(data)\n",
    "\n",
    "# Display the DataFrame\n",
    "df.head()"
   ]
  },
  {
   "cell_type": "code",
   "execution_count": null,
   "metadata": {},
   "outputs": [],
   "source": [
    "df.to_pickle('../feed-datasets/camera_info.pkl')"
   ]
  }
 ],
 "metadata": {
  "kernelspec": {
   "display_name": "Python 3",
   "language": "python",
   "name": "python3"
  },
  "language_info": {
   "codemirror_mode": {
    "name": "ipython",
    "version": 3
   },
   "file_extension": ".py",
   "mimetype": "text/x-python",
   "name": "python",
   "nbconvert_exporter": "python",
   "pygments_lexer": "ipython3",
   "version": "3.10.7"
  }
 },
 "nbformat": 4,
 "nbformat_minor": 2
}
