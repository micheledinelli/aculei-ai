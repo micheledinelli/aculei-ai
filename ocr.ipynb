{
 "cells": [
  {
   "cell_type": "markdown",
   "id": "6f3807df",
   "metadata": {},
   "source": [
    "### OCR for metadata recognition"
   ]
  },
  {
   "cell_type": "code",
   "execution_count": 1,
   "id": "61b262e8",
   "metadata": {},
   "outputs": [
    {
     "name": "stdout",
     "output_type": "stream",
     "text": [
      "Hello from pynotebook\n"
     ]
    }
   ],
   "source": [
    "print('Hello from pynotebook')"
   ]
  }
 ],
 "metadata": {
  "kernelspec": {
   "display_name": "Python 3 (ipykernel)",
   "language": "python",
   "name": "python3"
  },
  "language_info": {
   "codemirror_mode": {
    "name": "ipython",
    "version": 3
   },
   "file_extension": ".py",
   "mimetype": "text/x-python",
   "name": "python",
   "nbconvert_exporter": "python",
   "pygments_lexer": "ipython3",
   "version": "3.10.7"
  }
 },
 "nbformat": 4,
 "nbformat_minor": 5
}
